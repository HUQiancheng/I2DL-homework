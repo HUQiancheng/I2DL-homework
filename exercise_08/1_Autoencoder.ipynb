{
 "cells": [
  {
   "attachments": {},
   "cell_type": "markdown",
   "metadata": {
    "id": "9CALuVmNMNkM"
   },
   "source": [
    "# Autoencoder for MNIST\n",
    "\n",
    "Welcome to this notebook where you'll be training an autoencoder using the MNIST dataset, which comprises handwritten digits. This exercise is the last where we present you with a structured skeleton to work with. However, in following exercises, we will only provide you with the dataset, task, and a test scenario, enabling you to test your skills and compete with your peers on our leaderboards. Get ready to dive in and showcase your deep learning expertise!\n",
    "\n",
    "\n",
    "## Your task:\n",
    "\n",
    "Autoencoders have various applications, including unsupervised pretraining using unlabeled data, followed by fine-tuning the encoder with labeled data. This approach can greatly enhance performance when there is only a little amount of labeled data but a lot of unlabeled data available.\n",
    "\n",
    "In this exercise, you will use the MNIST dataset, consisting of 60,000 images of handwritten digits. However, not all the image labels are available to you. Your first objective is to train an autoencoder to accurately reproduce these unlabeled images.\n",
    "\n",
    "Afterwards, you will transfer the weights of the pretrained encoder and perform fine-tuning on a classifier using the available labeled data. This technique is commonly known as **transfer learning**, which allows you to leverage the knowledge gained from the autoencoder to improve the classification of the handwritten digits."
   ]
  },
  {
   "cell_type": "code",
   "execution_count": 20,
   "metadata": {
    "id": "XcU9f4APMNkT"
   },
   "outputs": [],
   "source": [
    "# For automatic file reloading as usual\n",
    "%load_ext autoreload\n",
    "%autoreload 2\n",
    "%matplotlib inline"
   ]
  },
  {
   "attachments": {},
   "cell_type": "markdown",
   "metadata": {
    "id": "Xb9dFU2EMNkW"
   },
   "source": [
    "## (Optional) Mount folder in Colab\n",
    "\n",
    "Uncomment the following cell to mount your gdrive if you are using the notebook in google colab:"
   ]
  },
  {
   "cell_type": "code",
   "execution_count": 21,
   "metadata": {
    "id": "TRr4E4YVMNkW"
   },
   "outputs": [
    {
     "data": {
      "text/plain": [
       "\"\\nfrom google.colab import drive\\nimport os\\ngdrive_path='/content/gdrive/MyDrive/i2dl/exercise_08'\\n\\n# This will mount your google drive under 'MyDrive'\\ndrive.mount('/content/gdrive', force_remount=True)\\n# In order to access the files in this notebook we have to navigate to the correct folder\\nos.chdir(gdrive_path)\\n# Check manually if all files are present\\n\""
      ]
     },
     "execution_count": 21,
     "metadata": {},
     "output_type": "execute_result"
    }
   ],
   "source": [
    "# Use the following lines if you want to use Google Colab\n",
    "# We presume you created a folder \"i2dl\" within your main drive folder, and put the exercise there.\n",
    "# NOTE: terminate all other colab sessions that use GPU!\n",
    "# NOTE 2: Make sure the correct exercise folder (e.g exercise_08) is given.\n",
    "\n",
    "# from google.colab import drive\n",
    "# import os\n",
    "\n",
    "\"\"\"\n",
    "from google.colab import drive\n",
    "import os\n",
    "gdrive_path='/content/gdrive/MyDrive/i2dl/exercise_08'\n",
    "\n",
    "# This will mount your google drive under 'MyDrive'\n",
    "drive.mount('/content/gdrive', force_remount=True)\n",
    "# In order to access the files in this notebook we have to navigate to the correct folder\n",
    "os.chdir(gdrive_path)\n",
    "# Check manually if all files are present\n",
    "\"\"\""
   ]
  },
  {
   "attachments": {},
   "cell_type": "markdown",
   "metadata": {
    "id": "JzDQg-kDMNkY"
   },
   "source": [
    "### Set up PyTorch environment in colab\n",
    "- Enable GPU via Runtime --> Change runtime type --> GPU\n"
   ]
  },
  {
   "attachments": {},
   "cell_type": "markdown",
   "metadata": {
    "id": "hEDWAZ7-ZA4E"
   },
   "source": [
    "# Imports"
   ]
  },
  {
   "cell_type": "code",
   "execution_count": 22,
   "metadata": {
    "id": "dJCiVLV5o9QO"
   },
   "outputs": [],
   "source": [
    "import numpy as np\n",
    "import matplotlib.pyplot as plt\n",
    "from pathlib import Path\n",
    "import os, sys\n",
    "import shutil\n",
    "import torch\n",
    "import torch.nn as nn\n",
    "from torchvision import transforms\n",
    "from exercise_code.image_folder_dataset import ImageFolderDataset\n",
    "from torch.utils.tensorboard import SummaryWriter\n",
    "from time import sleep\n",
    "from tqdm import tqdm\n",
    "from exercise_code.tests.base_tests import bcolors\n",
    "\n",
    "torch.manual_seed(42)\n",
    "\n",
    "os.environ['KMP_DUPLICATE_LIB_OK']='True' # To prevent the kernel from dying."
   ]
  },
  {
   "attachments": {},
   "cell_type": "markdown",
   "metadata": {
    "id": "dvaj6myXS7nN"
   },
   "source": [
    "<div class=\"alert alert-warning\">\n",
    "    <h3>Note: Google Colab</h3>\n",
    "    <p>\n",
    "In case you don't have a GPU, you can run this notebook on Google Colab where you can access a GPU for free, but, of course, you can also run this notebook on your CPU.\n",
    "         </p>\n",
    "</div>"
   ]
  },
  {
   "cell_type": "code",
   "execution_count": 23,
   "metadata": {
    "id": "VWgm75NnS9hr"
   },
   "outputs": [
    {
     "name": "stdout",
     "output_type": "stream",
     "text": [
      "You are using the following device:  cuda\n"
     ]
    }
   ],
   "source": [
    "device = torch.device(\"cuda\" if torch.cuda.is_available() else \"cpu\")\n",
    "print('You are using the following device: ', device)"
   ]
  },
  {
   "attachments": {},
   "cell_type": "markdown",
   "metadata": {
    "id": "Pm_rTAPnpsUo"
   },
   "source": [
    "## Setup TensorBoard\n",
    "\n",
    "In the previous exercise (Exercise 07), you learned how to use TensorBoard effectively. Let's use it again to enhance the convenience of debugging your network and the training process. Throughout this notebook, feel free to implement additional logs or visualizations into your TensorBoard, further improving your analysis and understanding of the network's behavior. "
   ]
  },
  {
   "cell_type": "code",
   "execution_count": 24,
   "metadata": {
    "id": "QbAJFyHkMNke"
   },
   "outputs": [
    {
     "name": "stdout",
     "output_type": "stream",
     "text": [
      "The tensorboard extension is already loaded. To reload it, use:\n",
      "  %reload_ext tensorboard\n"
     ]
    },
    {
     "data": {
      "text/plain": [
       "Reusing TensorBoard on port 6006 (pid 15185), started 1:19:05 ago. (Use '!kill 15185' to kill it.)"
      ]
     },
     "metadata": {},
     "output_type": "display_data"
    },
    {
     "data": {
      "text/html": [
       "\n",
       "      <iframe id=\"tensorboard-frame-cf9c0ce6a05ca65d\" width=\"100%\" height=\"800\" frameborder=\"0\">\n",
       "      </iframe>\n",
       "      <script>\n",
       "        (function() {\n",
       "          const frame = document.getElementById(\"tensorboard-frame-cf9c0ce6a05ca65d\");\n",
       "          const url = new URL(\"http://localhost\");\n",
       "          const port = 6006;\n",
       "          if (port) {\n",
       "            url.port = port;\n",
       "          }\n",
       "          frame.src = url;\n",
       "        })();\n",
       "      </script>\n",
       "    "
      ],
      "text/plain": [
       "<IPython.core.display.HTML object>"
      ]
     },
     "metadata": {},
     "output_type": "display_data"
    }
   ],
   "source": [
    "################# COLAB ONLY #################\n",
    "%load_ext tensorboard\n",
    "%tensorboard --logdir=./ --port 6006\n",
    "\n",
    "# Use the cmd for less trouble, if you can. From the working directory, run: tensorboard --logdir=./ --port 6006"
   ]
  },
  {
   "attachments": {},
   "cell_type": "markdown",
   "metadata": {
    "id": "t-Yt2KRiMNkf"
   },
   "source": [
    "# 1. The MNIST Dataset\n",
    "\n",
    "First, let's download the MNIST dataset. As mentioned at the beginning of this notebook, MNIST is a dataset of 60,000 images depicting handwritten digits. However, labeling such a large dataset can be a costly process, leaving us in a challenging situation.\n",
    "\n",
    "To overcome this, a practical approach is to label a small subset of the images. Let's consider a scenario where you have hired another student to perform the labeling task for you. After some time, you have been provided with 300 labeled images. Out of these, 100 images will be used for training, another 100 for validation, and the remaining 100 for testing. Undoubtedly, this poses a challenge due to the limited number of labeled samples.\n",
    "\n",
    "Now, you have the flexibility to define any transforms that you deem necessary, either at this point or at a later stage. However, it's important to note that during the final evaluation on the server, no transformations will be applied to the test set.\n",
    "\n",
    "Feel free to experiment with various transforms as you proceed (you can also pass without any transforms). \n",
    "\n",
    "\n",
    "**Note**: We do **not** apply any transformations or normalization to the test set at the time of final evaluation on our server."
   ]
  },
  {
   "cell_type": "code",
   "execution_count": 25,
   "metadata": {
    "id": "U5_eopjbMNkf",
    "pycharm": {
     "name": "#%%\n"
    }
   },
   "outputs": [
    {
     "name": "stdout",
     "output_type": "stream",
     "text": [
      "Found dataset folder. Skipped downloading. If you face issues, please re-download the dataset using\n",
      "'--force_download=True'\n",
      "https://i2dl.vc.in.tum.de/static/data/mnist.zip\n",
      "Found dataset folder. Skipped downloading. If you face issues, please re-download the dataset using\n",
      "'--force_download=True'\n",
      "https://i2dl.vc.in.tum.de/static/data/mnist.zip\n",
      "Found dataset folder. Skipped downloading. If you face issues, please re-download the dataset using\n",
      "'--force_download=True'\n",
      "https://i2dl.vc.in.tum.de/static/data/mnist.zip\n",
      "Found dataset folder. Skipped downloading. If you face issues, please re-download the dataset using\n",
      "'--force_download=True'\n",
      "https://i2dl.vc.in.tum.de/static/data/mnist.zip\n",
      "Found dataset folder. Skipped downloading. If you face issues, please re-download the dataset using\n",
      "'--force_download=True'\n",
      "https://i2dl.vc.in.tum.de/static/data/mnist.zip\n"
     ]
    }
   ],
   "source": [
    "transform = transforms.Compose([transforms.RandomRotation(10),\n",
    "    transforms.RandomResizedCrop(28, scale=(0.8, 1.0))])\n",
    "\n",
    "########################################################################\n",
    "# TODO: Feel free to define transforms (Only data augmentation)        #\n",
    "########################################################################\n",
    "\n",
    "\n",
    "pass\n",
    "\n",
    "########################################################################\n",
    "#                           END OF YOUR CODE                           #\n",
    "########################################################################\n",
    "\n",
    "i2dl_exercises_path = os.path.dirname(os.path.abspath(os.getcwd()))\n",
    "mnist_root = os.path.join(i2dl_exercises_path, \"datasets\", \"mnist\")\n",
    "\n",
    "train_100_dataset = ImageFolderDataset(root=mnist_root,images='train_images.pt',labels='train_labels.pt',force_download=False,verbose=True,transform=transform)\n",
    "val_100_dataset = ImageFolderDataset(root=mnist_root,images='val_images.pt',labels='val_labels.pt',force_download=False,verbose=True,transform=transform)\n",
    "test_100_dataset = ImageFolderDataset(root=mnist_root,images='test_images.pt',labels='test_labels.pt',force_download=False,verbose=True,transform=transform)\n",
    "\n",
    "# We also set up the unlabeled images which we will use later\n",
    "unlabeled_train = ImageFolderDataset(root=mnist_root,images='unlabeled_train_images.pt',force_download=False,verbose=True,transform=transform)\n",
    "unlabeled_val = ImageFolderDataset(root=mnist_root,images='unlabeled_val_images.pt',force_download=False,verbose=True,transform=transform)\n",
    "\n"
   ]
  },
  {
   "attachments": {},
   "cell_type": "markdown",
   "metadata": {
    "id": "zwrT1ckAMNkg"
   },
   "source": [
    "The dataset consists of tuples of 28x28 pixel PIL images and a label that is an integer from 0 to 9. \n",
    "\n",
    "Let's turn a few of the images into numpy arrays, to look at their shape and visualize them and see if the labels we paid for are correct."
   ]
  },
  {
   "cell_type": "code",
   "execution_count": 26,
   "metadata": {
    "id": "k7ct1J2CMNkh"
   },
   "outputs": [
    {
     "name": "stdout",
     "output_type": "stream",
     "text": [
      "The shape of our greyscale images:  (28, 28)\n"
     ]
    },
    {
     "data": {
      "image/png": "[encoded data removed]",
      "text/plain": [
       "<Figure size 1600x1600 with 10 Axes>"
      ]
     },
     "metadata": {},
     "output_type": "display_data"
    }
   ],
   "source": [
    "plt.rcParams['figure.figsize'] = (16,16) # Make the figures a bit bigger\n",
    "\n",
    "indices_arr = [83, 98, 92, 99, 78, 97, 90, 95, 93, 96]\n",
    "for i, index in enumerate(indices_arr):\n",
    "    image = np.array(train_100_dataset[index][0].squeeze()) # get the image of the data sample\n",
    "    label = train_100_dataset[index][1] # get the label of the data sample\n",
    "    plt.subplot(1, 10, i + 1)\n",
    "    plt.imshow(image, cmap='gray', interpolation='none')\n",
    "    plt.title(\"Class {}\".format(label))\n",
    "    \n",
    "plt.tight_layout()\n",
    "print('The shape of our greyscale images: ', image.shape)"
   ]
  },
  {
   "attachments": {},
   "cell_type": "markdown",
   "metadata": {
    "id": "V9sz_lHyqJoj"
   },
   "source": [
    "<div class=\"alert alert-warning\">\n",
    "    <h3>Note: Starting Simple</h3>\n",
    "    <p>\n",
    "Regardless of the size of the dataset, the first step is to evaluate the performance of a simple classifier. It is advisable to always start with a straightforward approach when tackling a problem and gradually build upon it to determine which changes yield improvements.</p>\n",
    "</div>\n",
    "\n",
    "# 2. A Simple Classifier\n",
    "\n",
    "In `exercise_code/models.py`, we prepared all classes for you, which you will finalize throughout the notebook to build an Autoencoder and an image classifier with PyTorch.\n",
    "\n",
    "<!-- In case image does not show, uncomment the following:\n",
    " ![network_split](img/network_split.png) \n",
    " -->\n",
    "<img name=\"network_split\" src=\"https://i2dl.vc.in.tum.de/static/images/exercise_08/network_split.png\">\n",
    "\n",
    "\n",
    "## 2.1 The Encoder\n",
    "\n",
    "Unlike previous models, we are going to split up the model into two parts: the `encoder` and the `classifier`. The `classifier` has a fixed task, generating predictions given a one-dimensional input. On the other hand, the `encoder`'s task is to extract meaningful information from the input, enabling the classifier to make accurate decisions. \n",
    "\n",
    "For now, both networks will be similar in design and consist of linear layers coupled with auxiliary layers. This split-up will be relevant later, e.g., by using convolutional layers, which are introduced in the lecture. We are going to set up the `encoder` now. \n",
    "\n",
    "Think about a good network architecture. You have complete freedom in this regard and can devise any network structure you think might be fitting. (\\*)\n",
    "\n",
    "Have a look at the documentation of `torch.nn` at https://pytorch.org/docs/stable/nn.html to learn how to use this module in order to build your network!\n",
    "\n",
    "Then implement your architecture: initialize it in `__init__()` and assign it to `self.model`. This is particularly easy using `nn.Sequential()`, where you only have to pass the list of your layers. \n",
    "\n",
    "To make your model customizable and support parameter search, do not use hardcoded hyperparameters - instead, pass them as a simple dictionary `hparams` (here, `n_hidden` is the number of neurons in the hidden layer) when initializing `models`.\n",
    "\n",
    "Here is a simple example:\n",
    "\n",
    "```python\n",
    "        self.model = nn.Sequential(\n",
    "            nn.Linear(input_size, self.hparams[\"n_hidden\"]),\n",
    "            nn.ReLU(),            \n",
    "            nn.Linear(self.hparams[\"n_hidden\"], num_classes)\n",
    "        )\n",
    "```\n",
    "\n",
    "Have a look at the forward path in `forward(self, x)`, which is so easy that you don't need to implement it yourself.\n",
    "\n",
    "As PyTorch automatically computes the gradients, that's all you need to do! There is no need to manually calculate derivatives for the backward paths anymore! :)\n",
    "\n",
    "\n",
    "____\n",
    "\\* *The size of your final model must be less than 20 MB, which is approximately equivalent to 5 Mio. params. Note that this limit is quite lenient, you will probably need much fewer parameters!*\n",
    "\n",
    "*In order to keep things simple, you should only use fully connected layers for this task, as we need to revert the encoder architecture later on in the notebook.*\n",
    "\n",
    "<div class=\"alert alert-info\">\n",
    "    <h3>Task: Implement</h3>\n",
    "    <p>Implement the <code>Encoder</code> class initialization in <code>exercise_code/models.py</code>.\n",
    "    </p>\n",
    "</div>\n",
    "\n",
    "\n"
   ]
  },
  {
   "attachments": {},
   "cell_type": "markdown",
   "metadata": {
    "id": "jNf7FrvwMNki"
   },
   "source": [
    "## 2.2 The Classifier\n",
    "\n",
    "Now let's implement the classifier. The classifier will utilize the encoder that you have defined in the above cell. By looking at `Classifier.forward`, you can see that we are essentially concatenating the `classifier`and the `encoder` together. Therefore, it is crucial to ensure that the input shape of the classifier matches the output shape of the encoder you implemented above\n",
    "\n",
    "<div class=\"alert alert-info\">\n",
    "    <h3>Task: Implement</h3>\n",
    "    <p>1. Implement the <code>Classifier</code> class network initialization in <code>exercise_code/models.py</code>.\n",
    "    </p>\n",
    "    <p>2. Define in the next cell your hyperparameters in a dictionary called 'hparams'.\n",
    "    </p>\n",
    "</div>"
   ]
  },
  {
   "cell_type": "code",
   "execution_count": 259,
   "metadata": {
    "id": "AawbvD1rMNkj"
   },
   "outputs": [],
   "source": [
    "\n",
    "hparams = {\n",
    "    \"n_hidden\": 256,  # 更大的隐藏层神经元数量\n",
    "    \"learning_rate\": 6e-4,\n",
    "    \"batch_size\": 64,  # 使用大批量大小\n",
    "    \"epochs\": 100,  # 训练周期\n",
    "}\n",
    "\n",
    "########################################################################\n",
    "# TODO: Define your hyper parameters here!                             #\n",
    "########################################################################\n",
    "\n",
    "\n",
    "########################################################################\n",
    "#                           END OF YOUR CODE                           #\n",
    "########################################################################"
   ]
  },
  {
   "attachments": {},
   "cell_type": "markdown",
   "metadata": {
    "id": "bOYbUg8lAmgU"
   },
   "source": [
    "\n",
    "## 2.3 Optimizer\n",
    "Lastly, implement the function `set_optimizer` to define your optimizer. Here the documentation of `torch.optim` at https://pytorch.org/docs/stable/optim.html might be helpful.\n",
    "\n",
    "<div class=\"alert alert-info\">\n",
    "    <h3>Task: Implement</h3>\n",
    "    <p>Implement the <code>set_optimizer</code> method of the <code>Classifier</code> in <code>exercise_code/models.py</code>.\n",
    "    </p>\n",
    "</div>\n"
   ]
  },
  {
   "attachments": {},
   "cell_type": "markdown",
   "metadata": {
    "id": "xrUfa-a7MNkk"
   },
   "source": [
    "## 2.4 Training & Validation Step\n",
    "\n",
    "<div class=\"alert alert-success\">\n",
    "    <h3>Task: Check Code</h3>\n",
    "    <p> Let's take a closer look at the training pipeline outlined below. It is explicitly written here in its entirety to provide you with a comprehensive understanding of its structure. Additionally, you can refer back to this pipeline whenever you encounter any uncertainties or need guidance.\n",
    " </p>\n",
    "</div>\n"
   ]
  },
  {
   "cell_type": "code",
   "execution_count": 260,
   "metadata": {
    "id": "NY_lLaNWMNkk"
   },
   "outputs": [],
   "source": [
    " # One of the most crucial things in deep learning is to understand the training pipeline:\n",
    " # 1. Forward()          --> The forward pass of the network, to calculate the currnent loss.\n",
    " # 2. Backward()         --> The backward pass of the network, to calculate the gradients w.r.t the loss, calculated in the previous stage.\n",
    " # 3. Optimizer_step()   --> Update the weights w.r.t their corresponding gradients and the learnign rate.\n",
    "\n",
    "def create_tqdm_bar(iterable, desc):\n",
    "    return tqdm(enumerate(iterable),total=len(iterable), ncols=150, desc=desc)\n",
    "\n",
    "\n",
    "def train_classifier(classifier, train_loader, val_loader, loss_func, tb_logger, epochs=10, name=\"default\"):\n",
    "    \"\"\"\n",
    "    Train the classifier for a number of epochs.\n",
    "    \"\"\"\n",
    "    optimizer = classifier.optimizer\n",
    "    classifier = classifier.to(device)\n",
    "    validation_loss = 0\n",
    "    for epoch in range(epochs):\n",
    "        \n",
    "        training_loss = 0\n",
    "        \n",
    "        # Training stage, where we want to update the parameters.\n",
    "        classifier.train()  # Set the model to training mode\n",
    "        \n",
    "        # Create a progress bar for the training loop.\n",
    "        training_loop = create_tqdm_bar(train_loader, desc=f'Training Epoch [{epoch + 1}/{epochs}]')\n",
    "        for train_iteration, batch in training_loop:\n",
    "            optimizer.zero_grad() # Reset the gradients - VERY important! Otherwise they accumulate.\n",
    "            images, labels = batch # Get the images and labels from the batch, in the fashion we defined in the dataset and dataloader.\n",
    "            images, labels = images.to(device), labels.to(device) # Send the data to the device (GPU or CPU) - it has to be the same device as the model.\n",
    "\n",
    "            # Flatten the images to a vector. This is done because the classifier expects a vector as input.\n",
    "            # Could also be done by reshaping the images in the dataset.\n",
    "            images = images.view(images.shape[0], -1) \n",
    "\n",
    "            pred = classifier(images) # Stage 1: Forward().\n",
    "            loss = loss_func(pred, labels) # Compute the loss over the predictions and the ground truth.\n",
    "            loss.backward()  # Stage 2: Backward().\n",
    "            optimizer.step() # Stage 3: Update the parameters.\n",
    "\n",
    "            training_loss += loss.item()\n",
    "\n",
    "            # Update the progress bar.\n",
    "            training_loop.set_postfix(curr_train_loss = \"{:.8f}\".format(training_loss / (train_iteration + 1)), val_loss = \"{:.8f}\".format(validation_loss))\n",
    "\n",
    "            # Update the tensorboard logger.\n",
    "            tb_logger.add_scalar(f'classifier_{name}/train_loss', loss.item(), epoch * len(train_loader) + train_iteration)\n",
    "            sleep(0.1) # Remove this line if you want to see the progress bar faster.\n",
    "\n",
    "        # Validation stage, where we don't want to update the parameters. Pay attention to the classifier.eval() line\n",
    "        # and \"with torch.no_grad()\" wrapper.\n",
    "        classifier.eval()\n",
    "        val_loop = create_tqdm_bar(val_loader, desc=f'Validation Epoch [{epoch + 1}/{epochs}]')\n",
    "        validation_loss = 0\n",
    "        with torch.no_grad():\n",
    "            for val_iteration, batch in val_loop:\n",
    "                images, labels = batch\n",
    "                images, labels = images.to(device), labels.to(device)\n",
    "\n",
    "                images = images.view(images.shape[0], -1) \n",
    "                pred = classifier(images)\n",
    "                loss = loss_func(pred, labels)\n",
    "                validation_loss += loss.item()\n",
    "\n",
    "                # Update the progress bar.\n",
    "                val_loop.set_postfix(val_loss = \"{:.8f}\".format(validation_loss / (val_iteration + 1)))\n",
    "\n",
    "                # Update the tensorboard logger.\n",
    "                tb_logger.add_scalar(f'classifier_{name}/val_loss', loss.item(), epoch * len(val_loader) + val_iteration)\n",
    "                sleep(0.1) # Remove this line if you want to see the progress bar faster.\n",
    "        \n",
    "        # This value is used for the progress bar of the training loop.\n",
    "        validation_loss /= len(val_loader)\n",
    "            "
   ]
  },
  {
   "attachments": {},
   "cell_type": "markdown",
   "metadata": {
    "id": "KVKLlwlyMNkl"
   },
   "source": [
    "## 2.5 Fit Classification Model with Trainer\n",
    "Now it's finally time to train your model.\n",
    "Run the following cell to see the behold the magic of deep learning at play."
   ]
  },
  {
   "cell_type": "code",
   "execution_count": 261,
   "metadata": {
    "id": "uBGavq9cMNkl"
   },
   "outputs": [
    {
     "name": "stderr",
     "output_type": "stream",
     "text": [
      "Training Epoch [1/100]: 100%|██████████████████████████████████████████| 2/2 [00:00<00:00,  9.09it/s, curr_train_loss=2.29495776, val_loss=0.00000000]\n",
      "Validation Epoch [1/100]: 100%|████████████████████████████████████████████████████████████████████| 2/2 [00:00<00:00,  9.06it/s, val_loss=2.30441439]\n",
      "Training Epoch [2/100]: 100%|██████████████████████████████████████████| 2/2 [00:00<00:00,  8.93it/s, curr_train_loss=2.29932570, val_loss=2.30441439]\n",
      "Validation Epoch [2/100]: 100%|████████████████████████████████████████████████████████████████████| 2/2 [00:00<00:00,  8.61it/s, val_loss=2.30163825]\n",
      "Training Epoch [3/100]: 100%|██████████████████████████████████████████| 2/2 [00:00<00:00,  8.79it/s, curr_train_loss=2.28304541, val_loss=2.30163825]\n",
      "Validation Epoch [3/100]: 100%|████████████████████████████████████████████████████████████████████| 2/2 [00:00<00:00,  8.90it/s, val_loss=2.29892290]\n",
      "Training Epoch [4/100]: 100%|██████████████████████████████████████████| 2/2 [00:00<00:00,  8.98it/s, curr_train_loss=2.27975810, val_loss=2.29892290]\n",
      "Validation Epoch [4/100]: 100%|████████████████████████████████████████████████████████████████████| 2/2 [00:00<00:00,  8.93it/s, val_loss=2.29466772]\n",
      "Training Epoch [5/100]: 100%|██████████████████████████████████████████| 2/2 [00:00<00:00,  8.74it/s, curr_train_loss=2.26775241, val_loss=2.29466772]\n",
      "Validation Epoch [5/100]: 100%|████████████████████████████████████████████████████████████████████| 2/2 [00:00<00:00,  8.74it/s, val_loss=2.28957820]\n",
      "Training Epoch [6/100]: 100%|██████████████████████████████████████████| 2/2 [00:00<00:00,  8.56it/s, curr_train_loss=2.26326835, val_loss=2.28957820]\n",
      "Validation Epoch [6/100]: 100%|████████████████████████████████████████████████████████████████████| 2/2 [00:00<00:00,  8.76it/s, val_loss=2.28354430]\n",
      "Training Epoch [7/100]: 100%|██████████████████████████████████████████| 2/2 [00:00<00:00,  8.99it/s, curr_train_loss=2.24274290, val_loss=2.28354430]\n",
      "Validation Epoch [7/100]: 100%|████████████████████████████████████████████████████████████████████| 2/2 [00:00<00:00,  8.63it/s, val_loss=2.27341700]\n",
      "Training Epoch [8/100]: 100%|██████████████████████████████████████████| 2/2 [00:00<00:00,  8.63it/s, curr_train_loss=2.24346828, val_loss=2.27341700]\n",
      "Validation Epoch [8/100]: 100%|████████████████████████████████████████████████████████████████████| 2/2 [00:00<00:00,  8.75it/s, val_loss=2.25961399]\n",
      "Training Epoch [9/100]: 100%|██████████████████████████████████████████| 2/2 [00:00<00:00,  8.92it/s, curr_train_loss=2.21317649, val_loss=2.25961399]\n",
      "Validation Epoch [9/100]: 100%|████████████████████████████████████████████████████████████████████| 2/2 [00:00<00:00,  8.98it/s, val_loss=2.24191546]\n",
      "Training Epoch [10/100]: 100%|█████████████████████████████████████████| 2/2 [00:00<00:00,  8.81it/s, curr_train_loss=2.18526769, val_loss=2.24191546]\n",
      "Validation Epoch [10/100]: 100%|███████████████████████████████████████████████████████████████████| 2/2 [00:00<00:00,  9.09it/s, val_loss=2.22049296]\n",
      "Training Epoch [11/100]: 100%|█████████████████████████████████████████| 2/2 [00:00<00:00,  8.57it/s, curr_train_loss=2.14217174, val_loss=2.22049296]\n",
      "Validation Epoch [11/100]: 100%|███████████████████████████████████████████████████████████████████| 2/2 [00:00<00:00,  8.63it/s, val_loss=2.19517171]\n",
      "Training Epoch [12/100]: 100%|█████████████████████████████████████████| 2/2 [00:00<00:00,  8.63it/s, curr_train_loss=2.10798490, val_loss=2.19517171]\n",
      "Validation Epoch [12/100]: 100%|███████████████████████████████████████████████████████████████████| 2/2 [00:00<00:00,  8.77it/s, val_loss=2.17609560]\n",
      "Training Epoch [13/100]: 100%|█████████████████████████████████████████| 2/2 [00:00<00:00,  8.71it/s, curr_train_loss=2.06431413, val_loss=2.17609560]\n",
      "Validation Epoch [13/100]: 100%|███████████████████████████████████████████████████████████████████| 2/2 [00:00<00:00,  8.80it/s, val_loss=2.15226519]\n",
      "Training Epoch [14/100]: 100%|█████████████████████████████████████████| 2/2 [00:00<00:00,  8.66it/s, curr_train_loss=1.96237713, val_loss=2.15226519]\n",
      "Validation Epoch [14/100]: 100%|███████████████████████████████████████████████████████████████████| 2/2 [00:00<00:00,  8.66it/s, val_loss=2.12961054]\n",
      "Training Epoch [15/100]: 100%|█████████████████████████████████████████| 2/2 [00:00<00:00,  8.53it/s, curr_train_loss=1.91393572, val_loss=2.12961054]\n",
      "Validation Epoch [15/100]: 100%|███████████████████████████████████████████████████████████████████| 2/2 [00:00<00:00,  8.65it/s, val_loss=2.10834968]\n",
      "Training Epoch [16/100]: 100%|█████████████████████████████████████████| 2/2 [00:00<00:00,  8.74it/s, curr_train_loss=1.88044113, val_loss=2.10834968]\n",
      "Validation Epoch [16/100]: 100%|███████████████████████████████████████████████████████████████████| 2/2 [00:00<00:00,  8.70it/s, val_loss=2.09673953]\n",
      "Training Epoch [17/100]: 100%|█████████████████████████████████████████| 2/2 [00:00<00:00,  8.61it/s, curr_train_loss=1.79403287, val_loss=2.09673953]\n",
      "Validation Epoch [17/100]: 100%|███████████████████████████████████████████████████████████████████| 2/2 [00:00<00:00,  8.65it/s, val_loss=2.08734000]\n",
      "Training Epoch [18/100]: 100%|█████████████████████████████████████████| 2/2 [00:00<00:00,  8.62it/s, curr_train_loss=1.79886907, val_loss=2.08734000]\n",
      "Validation Epoch [18/100]: 100%|███████████████████████████████████████████████████████████████████| 2/2 [00:00<00:00,  8.66it/s, val_loss=2.09106112]\n",
      "Training Epoch [19/100]: 100%|█████████████████████████████████████████| 2/2 [00:00<00:00,  8.43it/s, curr_train_loss=1.73917872, val_loss=2.09106112]\n",
      "Validation Epoch [19/100]: 100%|███████████████████████████████████████████████████████████████████| 2/2 [00:00<00:00,  8.94it/s, val_loss=2.08060533]\n",
      "Training Epoch [20/100]: 100%|█████████████████████████████████████████| 2/2 [00:00<00:00,  8.48it/s, curr_train_loss=1.67414576, val_loss=2.08060533]\n",
      "Validation Epoch [20/100]: 100%|███████████████████████████████████████████████████████████████████| 2/2 [00:00<00:00,  8.54it/s, val_loss=1.99327201]\n",
      "Training Epoch [21/100]: 100%|█████████████████████████████████████████| 2/2 [00:00<00:00,  8.53it/s, curr_train_loss=1.62031007, val_loss=1.99327201]\n",
      "Validation Epoch [21/100]: 100%|███████████████████████████████████████████████████████████████████| 2/2 [00:00<00:00,  8.55it/s, val_loss=1.91077739]\n",
      "Training Epoch [22/100]: 100%|█████████████████████████████████████████| 2/2 [00:00<00:00,  8.54it/s, curr_train_loss=1.56121439, val_loss=1.91077739]\n",
      "Validation Epoch [22/100]: 100%|███████████████████████████████████████████████████████████████████| 2/2 [00:00<00:00,  8.55it/s, val_loss=1.85402894]\n",
      "Training Epoch [23/100]: 100%|█████████████████████████████████████████| 2/2 [00:00<00:00,  8.71it/s, curr_train_loss=1.47858477, val_loss=1.85402894]\n",
      "Validation Epoch [23/100]: 100%|███████████████████████████████████████████████████████████████████| 2/2 [00:00<00:00,  8.73it/s, val_loss=1.82158428]\n",
      "Training Epoch [24/100]: 100%|█████████████████████████████████████████| 2/2 [00:00<00:00,  8.64it/s, curr_train_loss=1.43134129, val_loss=1.82158428]\n",
      "Validation Epoch [24/100]: 100%|███████████████████████████████████████████████████████████████████| 2/2 [00:00<00:00,  8.64it/s, val_loss=1.82232893]\n",
      "Training Epoch [25/100]: 100%|█████████████████████████████████████████| 2/2 [00:00<00:00,  8.49it/s, curr_train_loss=1.29832828, val_loss=1.82232893]\n",
      "Validation Epoch [25/100]: 100%|███████████████████████████████████████████████████████████████████| 2/2 [00:00<00:00,  8.59it/s, val_loss=1.86985123]\n",
      "Training Epoch [26/100]: 100%|█████████████████████████████████████████| 2/2 [00:00<00:00,  8.53it/s, curr_train_loss=1.31122130, val_loss=1.86985123]\n",
      "Validation Epoch [26/100]: 100%|███████████████████████████████████████████████████████████████████| 2/2 [00:00<00:00,  8.75it/s, val_loss=1.84961897]\n",
      "Training Epoch [27/100]: 100%|█████████████████████████████████████████| 2/2 [00:00<00:00,  8.61it/s, curr_train_loss=1.36518049, val_loss=1.84961897]\n",
      "Validation Epoch [27/100]: 100%|███████████████████████████████████████████████████████████████████| 2/2 [00:00<00:00,  8.62it/s, val_loss=1.84171963]\n",
      "Training Epoch [28/100]: 100%|█████████████████████████████████████████| 2/2 [00:00<00:00,  8.51it/s, curr_train_loss=1.15742993, val_loss=1.84171963]\n",
      "Validation Epoch [28/100]: 100%|███████████████████████████████████████████████████████████████████| 2/2 [00:00<00:00,  8.59it/s, val_loss=1.84217453]\n",
      "Training Epoch [29/100]: 100%|█████████████████████████████████████████| 2/2 [00:00<00:00,  8.58it/s, curr_train_loss=1.16991919, val_loss=1.84217453]\n",
      "Validation Epoch [29/100]: 100%|███████████████████████████████████████████████████████████████████| 2/2 [00:00<00:00,  8.58it/s, val_loss=1.73375493]\n",
      "Training Epoch [30/100]: 100%|█████████████████████████████████████████| 2/2 [00:00<00:00,  8.53it/s, curr_train_loss=1.12222314, val_loss=1.73375493]\n",
      "Validation Epoch [30/100]: 100%|███████████████████████████████████████████████████████████████████| 2/2 [00:00<00:00,  8.59it/s, val_loss=1.74495423]\n",
      "Training Epoch [31/100]: 100%|█████████████████████████████████████████| 2/2 [00:00<00:00,  8.66it/s, curr_train_loss=1.14487299, val_loss=1.74495423]\n",
      "Validation Epoch [31/100]: 100%|███████████████████████████████████████████████████████████████████| 2/2 [00:00<00:00,  8.57it/s, val_loss=1.74358624]\n",
      "Training Epoch [32/100]: 100%|█████████████████████████████████████████| 2/2 [00:00<00:00,  8.58it/s, curr_train_loss=0.93212843, val_loss=1.74358624]\n",
      "Validation Epoch [32/100]: 100%|███████████████████████████████████████████████████████████████████| 2/2 [00:00<00:00,  8.61it/s, val_loss=1.85384512]\n",
      "Training Epoch [33/100]: 100%|█████████████████████████████████████████| 2/2 [00:00<00:00,  8.47it/s, curr_train_loss=0.95136660, val_loss=1.85384512]\n",
      "Validation Epoch [33/100]: 100%|███████████████████████████████████████████████████████████████████| 2/2 [00:00<00:00,  8.88it/s, val_loss=1.87649751]\n",
      "Training Epoch [34/100]: 100%|█████████████████████████████████████████| 2/2 [00:00<00:00,  8.68it/s, curr_train_loss=0.78877833, val_loss=1.87649751]\n",
      "Validation Epoch [34/100]: 100%|███████████████████████████████████████████████████████████████████| 2/2 [00:00<00:00,  8.81it/s, val_loss=1.77670598]\n",
      "Training Epoch [35/100]: 100%|█████████████████████████████████████████| 2/2 [00:00<00:00,  8.66it/s, curr_train_loss=0.90565735, val_loss=1.77670598]\n",
      "Validation Epoch [35/100]: 100%|███████████████████████████████████████████████████████████████████| 2/2 [00:00<00:00,  8.79it/s, val_loss=1.74187714]\n",
      "Training Epoch [36/100]: 100%|█████████████████████████████████████████| 2/2 [00:00<00:00,  8.66it/s, curr_train_loss=0.81159309, val_loss=1.74187714]\n",
      "Validation Epoch [36/100]: 100%|███████████████████████████████████████████████████████████████████| 2/2 [00:00<00:00,  8.73it/s, val_loss=1.58694524]\n",
      "Training Epoch [37/100]: 100%|█████████████████████████████████████████| 2/2 [00:00<00:00,  8.78it/s, curr_train_loss=0.75354534, val_loss=1.58694524]\n",
      "Validation Epoch [37/100]: 100%|███████████████████████████████████████████████████████████████████| 2/2 [00:00<00:00,  8.78it/s, val_loss=1.57160884]\n",
      "Training Epoch [38/100]: 100%|█████████████████████████████████████████| 2/2 [00:00<00:00,  8.62it/s, curr_train_loss=0.80259886, val_loss=1.57160884]\n",
      "Validation Epoch [38/100]: 100%|███████████████████████████████████████████████████████████████████| 2/2 [00:00<00:00,  8.73it/s, val_loss=1.70316899]\n",
      "Training Epoch [39/100]: 100%|█████████████████████████████████████████| 2/2 [00:00<00:00,  8.60it/s, curr_train_loss=0.80549085, val_loss=1.70316899]\n",
      "Validation Epoch [39/100]: 100%|███████████████████████████████████████████████████████████████████| 2/2 [00:00<00:00,  8.85it/s, val_loss=1.74827516]\n",
      "Training Epoch [40/100]: 100%|█████████████████████████████████████████| 2/2 [00:00<00:00,  8.81it/s, curr_train_loss=0.67861803, val_loss=1.74827516]\n",
      "Validation Epoch [40/100]: 100%|███████████████████████████████████████████████████████████████████| 2/2 [00:00<00:00,  8.73it/s, val_loss=1.68071699]\n",
      "Training Epoch [41/100]: 100%|█████████████████████████████████████████| 2/2 [00:00<00:00,  8.64it/s, curr_train_loss=0.66082010, val_loss=1.68071699]\n",
      "Validation Epoch [41/100]: 100%|███████████████████████████████████████████████████████████████████| 2/2 [00:00<00:00,  8.78it/s, val_loss=1.66756308]\n",
      "Training Epoch [42/100]: 100%|█████████████████████████████████████████| 2/2 [00:00<00:00,  8.63it/s, curr_train_loss=0.62327802, val_loss=1.66756308]\n",
      "Validation Epoch [42/100]: 100%|███████████████████████████████████████████████████████████████████| 2/2 [00:00<00:00,  8.66it/s, val_loss=1.79888839]\n",
      "Training Epoch [43/100]: 100%|█████████████████████████████████████████| 2/2 [00:00<00:00,  8.78it/s, curr_train_loss=0.52235958, val_loss=1.79888839]\n",
      "Validation Epoch [43/100]: 100%|███████████████████████████████████████████████████████████████████| 2/2 [00:00<00:00,  8.69it/s, val_loss=1.78335780]\n",
      "Training Epoch [44/100]: 100%|█████████████████████████████████████████| 2/2 [00:00<00:00,  8.63it/s, curr_train_loss=0.60875174, val_loss=1.78335780]\n",
      "Validation Epoch [44/100]: 100%|███████████████████████████████████████████████████████████████████| 2/2 [00:00<00:00,  8.95it/s, val_loss=1.92201811]\n",
      "Training Epoch [45/100]: 100%|█████████████████████████████████████████| 2/2 [00:00<00:00,  8.65it/s, curr_train_loss=0.58759585, val_loss=1.92201811]\n",
      "Validation Epoch [45/100]: 100%|███████████████████████████████████████████████████████████████████| 2/2 [00:00<00:00,  8.50it/s, val_loss=1.83045316]\n",
      "Training Epoch [46/100]: 100%|█████████████████████████████████████████| 2/2 [00:00<00:00,  8.66it/s, curr_train_loss=0.57560879, val_loss=1.83045316]\n",
      "Validation Epoch [46/100]: 100%|███████████████████████████████████████████████████████████████████| 2/2 [00:00<00:00,  8.72it/s, val_loss=1.87923455]\n",
      "Training Epoch [47/100]: 100%|█████████████████████████████████████████| 2/2 [00:00<00:00,  8.41it/s, curr_train_loss=0.50465599, val_loss=1.87923455]\n",
      "Validation Epoch [47/100]: 100%|███████████████████████████████████████████████████████████████████| 2/2 [00:00<00:00,  8.73it/s, val_loss=1.76519316]\n",
      "Training Epoch [48/100]: 100%|█████████████████████████████████████████| 2/2 [00:00<00:00,  8.37it/s, curr_train_loss=0.51800139, val_loss=1.76519316]\n",
      "Validation Epoch [48/100]: 100%|███████████████████████████████████████████████████████████████████| 2/2 [00:00<00:00,  8.58it/s, val_loss=1.81941873]\n",
      "Training Epoch [49/100]: 100%|█████████████████████████████████████████| 2/2 [00:00<00:00,  8.71it/s, curr_train_loss=0.33886623, val_loss=1.81941873]\n",
      "Validation Epoch [49/100]: 100%|███████████████████████████████████████████████████████████████████| 2/2 [00:00<00:00,  8.64it/s, val_loss=1.85660440]\n",
      "Training Epoch [50/100]: 100%|█████████████████████████████████████████| 2/2 [00:00<00:00,  8.56it/s, curr_train_loss=0.42054573, val_loss=1.85660440]\n",
      "Validation Epoch [50/100]: 100%|███████████████████████████████████████████████████████████████████| 2/2 [00:00<00:00,  8.68it/s, val_loss=1.76076829]\n",
      "Training Epoch [51/100]: 100%|█████████████████████████████████████████| 2/2 [00:00<00:00,  8.67it/s, curr_train_loss=0.45587981, val_loss=1.76076829]\n",
      "Validation Epoch [51/100]: 100%|███████████████████████████████████████████████████████████████████| 2/2 [00:00<00:00,  8.66it/s, val_loss=1.76397461]\n",
      "Training Epoch [52/100]: 100%|█████████████████████████████████████████| 2/2 [00:00<00:00,  8.67it/s, curr_train_loss=0.41460940, val_loss=1.76397461]\n",
      "Validation Epoch [52/100]: 100%|███████████████████████████████████████████████████████████████████| 2/2 [00:00<00:00,  8.70it/s, val_loss=1.80788434]\n",
      "Training Epoch [53/100]: 100%|█████████████████████████████████████████| 2/2 [00:00<00:00,  8.52it/s, curr_train_loss=0.33744219, val_loss=1.80788434]\n",
      "Validation Epoch [53/100]: 100%|███████████████████████████████████████████████████████████████████| 2/2 [00:00<00:00,  8.90it/s, val_loss=1.78040892]\n",
      "Training Epoch [54/100]: 100%|█████████████████████████████████████████| 2/2 [00:00<00:00,  8.54it/s, curr_train_loss=0.31768179, val_loss=1.78040892]\n",
      "Validation Epoch [54/100]: 100%|███████████████████████████████████████████████████████████████████| 2/2 [00:00<00:00,  8.60it/s, val_loss=1.83617187]\n",
      "Training Epoch [55/100]: 100%|█████████████████████████████████████████| 2/2 [00:00<00:00,  8.52it/s, curr_train_loss=0.40295592, val_loss=1.83617187]\n",
      "Validation Epoch [55/100]: 100%|███████████████████████████████████████████████████████████████████| 2/2 [00:00<00:00,  8.65it/s, val_loss=2.02025729]\n",
      "Training Epoch [56/100]: 100%|█████████████████████████████████████████| 2/2 [00:00<00:00,  8.54it/s, curr_train_loss=0.31733780, val_loss=2.02025729]\n",
      "Validation Epoch [56/100]: 100%|███████████████████████████████████████████████████████████████████| 2/2 [00:00<00:00,  8.76it/s, val_loss=1.89487827]\n",
      "Training Epoch [57/100]: 100%|█████████████████████████████████████████| 2/2 [00:00<00:00,  8.60it/s, curr_train_loss=0.37992467, val_loss=1.89487827]\n",
      "Validation Epoch [57/100]: 100%|███████████████████████████████████████████████████████████████████| 2/2 [00:00<00:00,  8.69it/s, val_loss=2.00564158]\n",
      "Training Epoch [58/100]: 100%|█████████████████████████████████████████| 2/2 [00:00<00:00,  8.56it/s, curr_train_loss=0.31619766, val_loss=2.00564158]\n",
      "Validation Epoch [58/100]: 100%|███████████████████████████████████████████████████████████████████| 2/2 [00:00<00:00,  8.68it/s, val_loss=1.92781591]\n",
      "Training Epoch [59/100]: 100%|█████████████████████████████████████████| 2/2 [00:00<00:00,  8.61it/s, curr_train_loss=0.27275940, val_loss=1.92781591]\n",
      "Validation Epoch [59/100]: 100%|███████████████████████████████████████████████████████████████████| 2/2 [00:00<00:00,  8.78it/s, val_loss=1.80102926]\n",
      "Training Epoch [60/100]: 100%|█████████████████████████████████████████| 2/2 [00:00<00:00,  8.50it/s, curr_train_loss=0.39067897, val_loss=1.80102926]\n",
      "Validation Epoch [60/100]: 100%|███████████████████████████████████████████████████████████████████| 2/2 [00:00<00:00,  8.75it/s, val_loss=1.80932468]\n",
      "Training Epoch [61/100]: 100%|█████████████████████████████████████████| 2/2 [00:00<00:00,  8.61it/s, curr_train_loss=0.27967080, val_loss=1.80932468]\n",
      "Validation Epoch [61/100]: 100%|███████████████████████████████████████████████████████████████████| 2/2 [00:00<00:00,  8.94it/s, val_loss=1.96113515]\n",
      "Training Epoch [62/100]: 100%|█████████████████████████████████████████| 2/2 [00:00<00:00,  8.59it/s, curr_train_loss=0.22395916, val_loss=1.96113515]\n",
      "Validation Epoch [62/100]: 100%|███████████████████████████████████████████████████████████████████| 2/2 [00:00<00:00,  8.54it/s, val_loss=1.98375237]\n",
      "Training Epoch [63/100]: 100%|█████████████████████████████████████████| 2/2 [00:00<00:00,  8.42it/s, curr_train_loss=0.20218012, val_loss=1.98375237]\n",
      "Validation Epoch [63/100]: 100%|███████████████████████████████████████████████████████████████████| 2/2 [00:00<00:00,  8.61it/s, val_loss=1.96865416]\n",
      "Training Epoch [64/100]: 100%|█████████████████████████████████████████| 2/2 [00:00<00:00,  8.50it/s, curr_train_loss=0.31046075, val_loss=1.96865416]\n",
      "Validation Epoch [64/100]: 100%|███████████████████████████████████████████████████████████████████| 2/2 [00:00<00:00,  8.59it/s, val_loss=2.10783571]\n",
      "Training Epoch [65/100]: 100%|█████████████████████████████████████████| 2/2 [00:00<00:00,  8.47it/s, curr_train_loss=0.18789718, val_loss=2.10783571]\n",
      "Validation Epoch [65/100]: 100%|███████████████████████████████████████████████████████████████████| 2/2 [00:00<00:00,  8.74it/s, val_loss=1.84896737]\n",
      "Training Epoch [66/100]: 100%|█████████████████████████████████████████| 2/2 [00:00<00:00,  8.49it/s, curr_train_loss=0.18314971, val_loss=1.84896737]\n",
      "Validation Epoch [66/100]: 100%|███████████████████████████████████████████████████████████████████| 2/2 [00:00<00:00,  8.56it/s, val_loss=1.74387866]\n",
      "Training Epoch [67/100]: 100%|█████████████████████████████████████████| 2/2 [00:00<00:00,  8.50it/s, curr_train_loss=0.23417930, val_loss=1.74387866]\n",
      "Validation Epoch [67/100]: 100%|███████████████████████████████████████████████████████████████████| 2/2 [00:00<00:00,  8.83it/s, val_loss=1.91935664]\n",
      "Training Epoch [68/100]: 100%|█████████████████████████████████████████| 2/2 [00:00<00:00,  8.55it/s, curr_train_loss=0.24063820, val_loss=1.91935664]\n",
      "Validation Epoch [68/100]: 100%|███████████████████████████████████████████████████████████████████| 2/2 [00:00<00:00,  8.68it/s, val_loss=2.11763120]\n",
      "Training Epoch [69/100]: 100%|█████████████████████████████████████████| 2/2 [00:00<00:00,  8.64it/s, curr_train_loss=0.18276165, val_loss=2.11763120]\n",
      "Validation Epoch [69/100]: 100%|███████████████████████████████████████████████████████████████████| 2/2 [00:00<00:00,  8.67it/s, val_loss=2.28056180]\n",
      "Training Epoch [70/100]: 100%|█████████████████████████████████████████| 2/2 [00:00<00:00,  8.55it/s, curr_train_loss=0.31821904, val_loss=2.28056180]\n",
      "Validation Epoch [70/100]: 100%|███████████████████████████████████████████████████████████████████| 2/2 [00:00<00:00,  8.77it/s, val_loss=2.10375571]\n",
      "Training Epoch [71/100]: 100%|█████████████████████████████████████████| 2/2 [00:00<00:00,  8.59it/s, curr_train_loss=0.19230598, val_loss=2.10375571]\n",
      "Validation Epoch [71/100]: 100%|███████████████████████████████████████████████████████████████████| 2/2 [00:00<00:00,  8.77it/s, val_loss=1.99953216]\n",
      "Training Epoch [72/100]: 100%|█████████████████████████████████████████| 2/2 [00:00<00:00,  8.72it/s, curr_train_loss=0.24934892, val_loss=1.99953216]\n",
      "Validation Epoch [72/100]: 100%|███████████████████████████████████████████████████████████████████| 2/2 [00:00<00:00,  8.73it/s, val_loss=2.07677162]\n",
      "Training Epoch [73/100]: 100%|█████████████████████████████████████████| 2/2 [00:00<00:00,  8.44it/s, curr_train_loss=0.17217429, val_loss=2.07677162]\n",
      "Validation Epoch [73/100]: 100%|███████████████████████████████████████████████████████████████████| 2/2 [00:00<00:00,  8.57it/s, val_loss=1.80789673]\n",
      "Training Epoch [74/100]: 100%|█████████████████████████████████████████| 2/2 [00:00<00:00,  8.47it/s, curr_train_loss=0.16794522, val_loss=1.80789673]\n",
      "Validation Epoch [74/100]: 100%|███████████████████████████████████████████████████████████████████| 2/2 [00:00<00:00,  8.76it/s, val_loss=1.91330439]\n",
      "Training Epoch [75/100]: 100%|█████████████████████████████████████████| 2/2 [00:00<00:00,  8.66it/s, curr_train_loss=0.18135614, val_loss=1.91330439]\n",
      "Validation Epoch [75/100]: 100%|███████████████████████████████████████████████████████████████████| 2/2 [00:00<00:00,  8.78it/s, val_loss=1.99740255]\n",
      "Training Epoch [76/100]: 100%|█████████████████████████████████████████| 2/2 [00:00<00:00,  8.97it/s, curr_train_loss=0.15706503, val_loss=1.99740255]\n",
      "Validation Epoch [76/100]: 100%|███████████████████████████████████████████████████████████████████| 2/2 [00:00<00:00,  8.92it/s, val_loss=2.13828814]\n",
      "Training Epoch [77/100]: 100%|█████████████████████████████████████████| 2/2 [00:00<00:00,  8.59it/s, curr_train_loss=0.17124832, val_loss=2.13828814]\n",
      "Validation Epoch [77/100]: 100%|███████████████████████████████████████████████████████████████████| 2/2 [00:00<00:00,  8.63it/s, val_loss=2.06088030]\n",
      "Training Epoch [78/100]: 100%|█████████████████████████████████████████| 2/2 [00:00<00:00,  8.57it/s, curr_train_loss=0.19083864, val_loss=2.06088030]\n",
      "Validation Epoch [78/100]: 100%|███████████████████████████████████████████████████████████████████| 2/2 [00:00<00:00,  8.73it/s, val_loss=2.16896290]\n",
      "Training Epoch [79/100]: 100%|█████████████████████████████████████████| 2/2 [00:00<00:00,  8.65it/s, curr_train_loss=0.11028763, val_loss=2.16896290]\n",
      "Validation Epoch [79/100]: 100%|███████████████████████████████████████████████████████████████████| 2/2 [00:00<00:00,  8.72it/s, val_loss=2.14786398]\n",
      "Training Epoch [80/100]: 100%|█████████████████████████████████████████| 2/2 [00:00<00:00,  8.66it/s, curr_train_loss=0.11942136, val_loss=2.14786398]\n",
      "Validation Epoch [80/100]: 100%|███████████████████████████████████████████████████████████████████| 2/2 [00:00<00:00,  8.76it/s, val_loss=1.98022628]\n",
      "Training Epoch [81/100]: 100%|█████████████████████████████████████████| 2/2 [00:00<00:00,  8.83it/s, curr_train_loss=0.12931019, val_loss=1.98022628]\n",
      "Validation Epoch [81/100]: 100%|███████████████████████████████████████████████████████████████████| 2/2 [00:00<00:00,  8.58it/s, val_loss=2.00365877]\n",
      "Training Epoch [82/100]: 100%|█████████████████████████████████████████| 2/2 [00:00<00:00,  8.52it/s, curr_train_loss=0.13123234, val_loss=2.00365877]\n",
      "Validation Epoch [82/100]: 100%|███████████████████████████████████████████████████████████████████| 2/2 [00:00<00:00,  7.98it/s, val_loss=1.92574501]\n",
      "Training Epoch [83/100]: 100%|█████████████████████████████████████████| 2/2 [00:00<00:00,  7.67it/s, curr_train_loss=0.11040961, val_loss=1.92574501]\n",
      "Validation Epoch [83/100]: 100%|███████████████████████████████████████████████████████████████████| 2/2 [00:00<00:00,  7.81it/s, val_loss=1.99969238]\n",
      "Training Epoch [84/100]: 100%|█████████████████████████████████████████| 2/2 [00:00<00:00,  7.81it/s, curr_train_loss=0.18969021, val_loss=1.99969238]\n",
      "Validation Epoch [84/100]: 100%|███████████████████████████████████████████████████████████████████| 2/2 [00:00<00:00,  7.83it/s, val_loss=1.87907404]\n",
      "Training Epoch [85/100]: 100%|█████████████████████████████████████████| 2/2 [00:00<00:00,  7.78it/s, curr_train_loss=0.28034874, val_loss=1.87907404]\n",
      "Validation Epoch [85/100]: 100%|███████████████████████████████████████████████████████████████████| 2/2 [00:00<00:00,  7.79it/s, val_loss=1.92527956]\n",
      "Training Epoch [86/100]: 100%|█████████████████████████████████████████| 2/2 [00:00<00:00,  7.74it/s, curr_train_loss=0.10587043, val_loss=1.92527956]\n",
      "Validation Epoch [86/100]: 100%|███████████████████████████████████████████████████████████████████| 2/2 [00:00<00:00,  7.94it/s, val_loss=1.88044918]\n",
      "Training Epoch [87/100]: 100%|█████████████████████████████████████████| 2/2 [00:00<00:00,  7.73it/s, curr_train_loss=0.12614452, val_loss=1.88044918]\n",
      "Validation Epoch [87/100]: 100%|███████████████████████████████████████████████████████████████████| 2/2 [00:00<00:00,  7.84it/s, val_loss=1.95026612]\n",
      "Training Epoch [88/100]: 100%|█████████████████████████████████████████| 2/2 [00:00<00:00,  7.77it/s, curr_train_loss=0.13002712, val_loss=1.95026612]\n",
      "Validation Epoch [88/100]: 100%|███████████████████████████████████████████████████████████████████| 2/2 [00:00<00:00,  7.64it/s, val_loss=2.20653349]\n",
      "Training Epoch [89/100]: 100%|█████████████████████████████████████████| 2/2 [00:00<00:00,  7.74it/s, curr_train_loss=0.10516213, val_loss=2.20653349]\n",
      "Validation Epoch [89/100]: 100%|███████████████████████████████████████████████████████████████████| 2/2 [00:00<00:00,  7.86it/s, val_loss=2.11626470]\n",
      "Training Epoch [90/100]: 100%|█████████████████████████████████████████| 2/2 [00:00<00:00,  7.71it/s, curr_train_loss=0.16284533, val_loss=2.11626470]\n",
      "Validation Epoch [90/100]: 100%|███████████████████████████████████████████████████████████████████| 2/2 [00:00<00:00,  7.78it/s, val_loss=1.96748859]\n",
      "Training Epoch [91/100]: 100%|█████████████████████████████████████████| 2/2 [00:00<00:00,  7.72it/s, curr_train_loss=0.13704167, val_loss=1.96748859]\n",
      "Validation Epoch [91/100]: 100%|███████████████████████████████████████████████████████████████████| 2/2 [00:00<00:00,  7.89it/s, val_loss=1.99443418]\n",
      "Training Epoch [92/100]: 100%|█████████████████████████████████████████| 2/2 [00:00<00:00,  7.69it/s, curr_train_loss=0.06923975, val_loss=1.99443418]\n",
      "Validation Epoch [92/100]: 100%|███████████████████████████████████████████████████████████████████| 2/2 [00:00<00:00,  7.80it/s, val_loss=2.18859643]\n",
      "Training Epoch [93/100]: 100%|█████████████████████████████████████████| 2/2 [00:00<00:00,  7.69it/s, curr_train_loss=0.08746113, val_loss=2.18859643]\n",
      "Validation Epoch [93/100]: 100%|███████████████████████████████████████████████████████████████████| 2/2 [00:00<00:00,  7.82it/s, val_loss=1.81935257]\n",
      "Training Epoch [94/100]: 100%|█████████████████████████████████████████| 2/2 [00:00<00:00,  7.89it/s, curr_train_loss=0.13312617, val_loss=1.81935257]\n",
      "Validation Epoch [94/100]: 100%|███████████████████████████████████████████████████████████████████| 2/2 [00:00<00:00,  7.86it/s, val_loss=1.90810508]\n",
      "Training Epoch [95/100]: 100%|█████████████████████████████████████████| 2/2 [00:00<00:00,  7.85it/s, curr_train_loss=0.14869614, val_loss=1.90810508]\n",
      "Validation Epoch [95/100]: 100%|███████████████████████████████████████████████████████████████████| 2/2 [00:00<00:00,  8.13it/s, val_loss=1.93256569]\n",
      "Training Epoch [96/100]: 100%|█████████████████████████████████████████| 2/2 [00:00<00:00,  7.71it/s, curr_train_loss=0.08105313, val_loss=1.93256569]\n",
      "Validation Epoch [96/100]: 100%|███████████████████████████████████████████████████████████████████| 2/2 [00:00<00:00,  7.93it/s, val_loss=1.98047864]\n",
      "Training Epoch [97/100]: 100%|█████████████████████████████████████████| 2/2 [00:00<00:00,  7.72it/s, curr_train_loss=0.10687415, val_loss=1.98047864]\n",
      "Validation Epoch [97/100]: 100%|███████████████████████████████████████████████████████████████████| 2/2 [00:00<00:00,  7.81it/s, val_loss=1.72650248]\n",
      "Training Epoch [98/100]: 100%|█████████████████████████████████████████| 2/2 [00:00<00:00,  7.88it/s, curr_train_loss=0.06058313, val_loss=1.72650248]\n",
      "Validation Epoch [98/100]: 100%|███████████████████████████████████████████████████████████████████| 2/2 [00:00<00:00,  7.55it/s, val_loss=1.85394168]\n",
      "Training Epoch [99/100]: 100%|█████████████████████████████████████████| 2/2 [00:00<00:00,  7.77it/s, curr_train_loss=0.12920062, val_loss=1.85394168]\n",
      "Validation Epoch [99/100]: 100%|███████████████████████████████████████████████████████████████████| 2/2 [00:00<00:00,  7.91it/s, val_loss=1.90949380]\n",
      "Training Epoch [100/100]: 100%|████████████████████████████████████████| 2/2 [00:00<00:00,  7.90it/s, curr_train_loss=0.09801340, val_loss=1.90949380]\n",
      "Validation Epoch [100/100]: 100%|██████████████████████████████████████████████████████████████████| 2/2 [00:00<00:00,  8.18it/s, val_loss=1.98602086]"
     ]
    },
    {
     "name": "stdout",
     "output_type": "stream",
     "text": [
      "Finished training!\n",
      "How did we do? Let's check the accuracy of the defaut classifier on the training and validation sets:\n",
      "Training Acc: 100.0%\n",
      "Validation Acc: 66.0%\n"
     ]
    },
    {
     "name": "stderr",
     "output_type": "stream",
     "text": [
      "\n"
     ]
    }
   ],
   "source": [
    "from exercise_code.models import Classifier\n",
    "from exercise_code.models import Encoder\n",
    "\n",
    "# Create the encoder and the classifier.\n",
    "encoder = Encoder(hparams).to(device)\n",
    "classifier = Classifier(hparams, encoder).to(device)\n",
    "\n",
    "# Create a tensorboard logger.\n",
    "# NOTE: In order to see the logs, run the following command in the terminal: tensorboard --logdir=./\n",
    "# Also, in order to reset the logs, delete the logs folder MANUALLY.\n",
    "\n",
    "path = os.path.join('logs', 'cls_logs')\n",
    "num_of_runs = len(os.listdir(path)) if os.path.exists(path) else 0\n",
    "path = os.path.join(path, f'run_{num_of_runs + 1}')\n",
    "\n",
    "tb_logger = SummaryWriter(path)\n",
    "\n",
    "# Train the classifier.\n",
    "labled_train_loader = torch.utils.data.DataLoader(train_100_dataset, batch_size=hparams['batch_size'], shuffle=True)\n",
    "labled_val_loader = torch.utils.data.DataLoader(val_100_dataset, batch_size=hparams['batch_size'], shuffle=False)\n",
    "\n",
    "epochs = hparams.get('epochs', 10)\n",
    "loss_func = nn.CrossEntropyLoss() # The loss function we use for classification.\n",
    "train_classifier(classifier, labled_train_loader, labled_val_loader, loss_func, tb_logger, epochs=epochs, name=\"Default\")\n",
    "\n",
    "print(\"Finished training!\")\n",
    "print(\"How did we do? Let's check the accuracy of the defaut classifier on the training and validation sets:\")\n",
    "print(f\"Training Acc: {classifier.getAcc(labled_train_loader)[1] * 100}%\")\n",
    "print(f\"Validation Acc: {classifier.getAcc(labled_val_loader)[1] * 100}%\")"
   ]
  },
  {
   "attachments": {},
   "cell_type": "markdown",
   "metadata": {
    "id": "i16vmHZXMNkm",
    "pycharm": {
     "name": "#%% md\n"
    }
   },
   "source": [
    "# 3. Autoencoder\n",
    "\n",
    "With only a limited number of labeled images, it's challenging to achieve high performance. We have no money left to pay the student to create more labels, and labeling the data ourselves is out of question. A commonly used approach would be to apply data augmentation to maximize the potential of our limited labeled data, but here we provide another way to solve this problem: **transfer learning**.\n",
    "\n",
    "For each input, the autoencoder tries to reproduce the same image as an output. The difficulty behind this task is that the autoencoder has to go through a low dimensional bottleneck, which is called the **latent space**.\n",
    "In other words, the autoencoder learns to represent all the input information in a low dimensional latent space - it learns to compress the input distribution. To train the autoencoder, we use the mean squared error loss, which calculates the discrepancy between the input pixels and the output pixels. The best part is that this loss function doesn't require any labels!\n",
    "\n",
    "By pretraining the autoencoder in this way on a large amount of unlabeled data, we can capture valuable latent representations of the input images. Then, we transfer the weights of the encoder to our classifier, enabling it to benefit from the knowledge learned during the unsupervised pretraining phase. \n",
    "\n",
    "<!-- In case the image does not show, uncomment the following:\n",
    "![autoencoder](img/autoencoder.png) \n",
    "-->\n",
    "<img name=\"autoencoder\" src=\"https://i2dl.vc.in.tum.de/static/images/exercise_08/autoencoder.png\">\n",
    "\n",
    "After this, our encoder has learned to extract meaningful information from the inputs. We can then transfer its weights\n",
    "to a classifier architecture and finetune it with our labeled data, i.e., instead of initializing our encoder randomly, we are re-using the weights of our trained encoder from our autoencoder network. \n",
    "\n",
    "<!-- In case the image does not show, uncomment the following:\n",
    "![autoencoder_pretrained](img/pretrained.png) \n",
    "-->\n",
    "<img name=\"autoencoder_pretrained\" src=\"https://i2dl.vc.in.tum.de/static/images/exercise_08/pretrained.png\">\n",
    "\n",
    "\n",
    "Before we can train our autoencoder, you have to initialize your `decoder` architecture. The simplest way is to mirror your encoder architecture, which ensures that the `latent space` output of our `encoder` is correctly transformed to our input shape.\n",
    "\n",
    "<div class=\"alert alert-info\">\n",
    "    <h3>Task: Implement</h3>\n",
    "    <p>Implement the <code>Decoder</code> class initialization in <code>exercise_code/models.py</code>.</p>\n",
    "    <p>Implement <code>forward</code>, <code>set_optimizer</code>, <code>training_step</code> and <code>validation_step</code> of the <code>Autoencoder</code> in  <code>exercise_code/models.py</code>, following the pipeline we've shown you in train_classifier().</p>\n",
    "    <p>Note the differences between the classification task and now the regression task!</p>\n",
    "\n",
    "\n",
    "</div>\n",
    "\n",
    "## 3.2 Autoencoder Training\n",
    "\n",
    "Now, we can train the full autoencoder consisting of both en- and decoder.\n",
    "\n",
    "\n"
   ]
  },
  {
   "cell_type": "code",
   "execution_count": 265,
   "metadata": {
    "id": "xqqdoLDgMNkm"
   },
   "outputs": [],
   "source": [
    "from exercise_code.models import Autoencoder, Encoder, Decoder\n",
    "\n",
    "########################################################################\n",
    "# TODO: Define your hyperparameters here!                              #\n",
    "# Hint: use a large batch_size                                         #\n",
    "########################################################################\n",
    "hparams = {\n",
    "    \"n_hidden\": 256,  # 更大的隐藏层神经元数量\n",
    "    \"learning_rate\": 6e-4,\n",
    "    \"batch_size\": 64,  # 使用大批量大小\n",
    "    \"epochs\": 100,  # 训练周期\n",
    "}\n",
    "\n",
    "########################################################################\n",
    "#                           END OF YOUR CODE                           #\n",
    "########################################################################\n",
    "encoder_pretrained = Encoder(hparams).to(device)\n",
    "decoder = Decoder(hparams).to(device)\n",
    "autoencoder = Autoencoder(hparams, encoder_pretrained, decoder).to(device)"
   ]
  },
  {
   "attachments": {},
   "cell_type": "markdown",
   "metadata": {
    "id": "uRuIIm8YMNkn"
   },
   "source": [
    "Some tests to check whether we'll accept your model."
   ]
  },
  {
   "cell_type": "code",
   "execution_count": 266,
   "metadata": {
    "id": "SoAaC-NqMNkn"
   },
   "outputs": [
    {
     "name": "stdout",
     "output_type": "stream",
     "text": [
      "# Paramters: Your model has \u001b[92m0.474\u001b[0m mio. params.\n",
      "Model accepted!\n"
     ]
    }
   ],
   "source": [
    "from exercise_code.Util import printModelInfo, load_model\n",
    "_ = printModelInfo(autoencoder)"
   ]
  },
  {
   "attachments": {},
   "cell_type": "markdown",
   "metadata": {
    "id": "plQwnphtqggl"
   },
   "source": [
    "After implementing the relevant functions - read the following code, and then run it.\n",
    "Keep in mind that an epoch here will take much longer since\n",
    "we are iterating through 5,8600 images instead of just 100.\n",
    "\n",
    "For speed, colab is indeed recommended. "
   ]
  },
  {
   "cell_type": "code",
   "execution_count": 267,
   "metadata": {
    "id": "_uuzXMq6zjbb",
    "tags": []
   },
   "outputs": [
    {
     "name": "stderr",
     "output_type": "stream",
     "text": [
      "Training Epoch [0/100]: 100%|███████████████████████████████████████████| 916/916 [00:25<00:00, 35.81it/s, train_loss=0.70450891, val_loss=0.00000000]\n",
      "Validation Epoch [0/100]: 100%|██████████████████████████████████████████████████████████████████| 16/16 [00:00<00:00, 40.39it/s, val_loss=0.61944100]\n",
      "Training Epoch [1/100]: 100%|███████████████████████████████████████████| 916/916 [00:22<00:00, 40.21it/s, train_loss=0.63060098, val_loss=0.61944100]\n",
      "Validation Epoch [1/100]: 100%|█████████████████████████████████████████████████████████████████| 16/16 [00:00<00:00, 114.86it/s, val_loss=0.59914216]\n",
      "Training Epoch [2/100]: 100%|███████████████████████████████████████████| 916/916 [00:14<00:00, 61.76it/s, train_loss=0.61952300, val_loss=0.59914216]\n",
      "Validation Epoch [2/100]: 100%|█████████████████████████████████████████████████████████████████| 16/16 [00:00<00:00, 110.38it/s, val_loss=0.58953348]\n",
      "Training Epoch [3/100]: 100%|███████████████████████████████████████████| 916/916 [00:24<00:00, 36.80it/s, train_loss=0.61211620, val_loss=0.58953348]\n",
      "Validation Epoch [3/100]: 100%|██████████████████████████████████████████████████████████████████| 16/16 [00:00<00:00, 39.39it/s, val_loss=0.58252072]\n",
      "Training Epoch [4/100]: 100%|███████████████████████████████████████████| 916/916 [00:14<00:00, 61.57it/s, train_loss=0.60763514, val_loss=0.58252072]\n",
      "Validation Epoch [4/100]: 100%|██████████████████████████████████████████████████████████████████| 16/16 [00:00<00:00, 36.98it/s, val_loss=0.57912762]\n",
      "Training Epoch [5/100]: 100%|███████████████████████████████████████████| 916/916 [00:25<00:00, 35.93it/s, train_loss=0.60382880, val_loss=0.57912762]\n",
      "Validation Epoch [5/100]: 100%|██████████████████████████████████████████████████████████████████| 16/16 [00:00<00:00, 40.11it/s, val_loss=0.57418144]\n",
      "Training Epoch [6/100]: 100%|███████████████████████████████████████████| 916/916 [00:22<00:00, 39.87it/s, train_loss=0.60083819, val_loss=0.57418144]\n",
      "Validation Epoch [6/100]: 100%|█████████████████████████████████████████████████████████████████| 16/16 [00:00<00:00, 111.05it/s, val_loss=0.57084025]\n",
      "Training Epoch [7/100]: 100%|███████████████████████████████████████████| 916/916 [00:19<00:00, 47.19it/s, train_loss=0.59842374, val_loss=0.57084025]\n",
      "Validation Epoch [7/100]: 100%|█████████████████████████████████████████████████████████████████| 16/16 [00:00<00:00, 107.18it/s, val_loss=0.56961039]\n",
      "Training Epoch [8/100]: 100%|███████████████████████████████████████████| 916/916 [00:18<00:00, 49.69it/s, train_loss=0.59643524, val_loss=0.56961039]\n",
      "Validation Epoch [8/100]: 100%|█████████████████████████████████████████████████████████████████| 16/16 [00:00<00:00, 113.57it/s, val_loss=0.56638044]\n",
      "Training Epoch [9/100]: 100%|███████████████████████████████████████████| 916/916 [00:16<00:00, 55.90it/s, train_loss=0.59518145, val_loss=0.56638044]\n",
      "Validation Epoch [9/100]: 100%|█████████████████████████████████████████████████████████████████| 16/16 [00:00<00:00, 112.44it/s, val_loss=0.56463508]\n",
      "Training Epoch [10/100]: 100%|██████████████████████████████████████████| 916/916 [00:12<00:00, 76.05it/s, train_loss=0.59368785, val_loss=0.56463508]\n",
      "Validation Epoch [10/100]: 100%|████████████████████████████████████████████████████████████████| 16/16 [00:00<00:00, 101.64it/s, val_loss=0.56340899]\n",
      "Training Epoch [11/100]: 100%|██████████████████████████████████████████| 916/916 [00:21<00:00, 43.45it/s, train_loss=0.59233636, val_loss=0.56340899]\n",
      "Validation Epoch [11/100]: 100%|█████████████████████████████████████████████████████████████████| 16/16 [00:00<00:00, 49.28it/s, val_loss=0.56247924]\n",
      "Training Epoch [12/100]: 100%|██████████████████████████████████████████| 916/916 [00:22<00:00, 40.18it/s, train_loss=0.59166663, val_loss=0.56247924]\n",
      "Validation Epoch [12/100]: 100%|█████████████████████████████████████████████████████████████████| 16/16 [00:00<00:00, 39.22it/s, val_loss=0.56141009]\n",
      "Training Epoch [13/100]: 100%|██████████████████████████████████████████| 916/916 [00:13<00:00, 65.44it/s, train_loss=0.59068585, val_loss=0.56141009]\n",
      "Validation Epoch [13/100]: 100%|████████████████████████████████████████████████████████████████| 16/16 [00:00<00:00, 102.51it/s, val_loss=0.55934625]\n",
      "Training Epoch [14/100]: 100%|██████████████████████████████████████████| 916/916 [00:17<00:00, 51.67it/s, train_loss=0.59011084, val_loss=0.55934625]\n",
      "Validation Epoch [14/100]: 100%|█████████████████████████████████████████████████████████████████| 16/16 [00:00<00:00, 64.37it/s, val_loss=0.56001737]\n",
      "Training Epoch [15/100]: 100%|██████████████████████████████████████████| 916/916 [00:27<00:00, 33.13it/s, train_loss=0.58914646, val_loss=0.56001737]\n",
      "Validation Epoch [15/100]: 100%|█████████████████████████████████████████████████████████████████| 16/16 [00:00<00:00, 91.74it/s, val_loss=0.55944348]\n",
      "Training Epoch [16/100]: 100%|██████████████████████████████████████████| 916/916 [00:19<00:00, 47.22it/s, train_loss=0.58875194, val_loss=0.55944348]\n",
      "Validation Epoch [16/100]: 100%|█████████████████████████████████████████████████████████████████| 16/16 [00:00<00:00, 36.08it/s, val_loss=0.55657816]\n",
      "Training Epoch [17/100]: 100%|██████████████████████████████████████████| 916/916 [00:22<00:00, 41.08it/s, train_loss=0.58787047, val_loss=0.55657816]\n",
      "Validation Epoch [17/100]: 100%|█████████████████████████████████████████████████████████████████| 16/16 [00:00<00:00, 80.20it/s, val_loss=0.55642294]\n",
      "Training Epoch [18/100]: 100%|██████████████████████████████████████████| 916/916 [00:19<00:00, 47.31it/s, train_loss=0.58731459, val_loss=0.55642294]\n",
      "Validation Epoch [18/100]: 100%|█████████████████████████████████████████████████████████████████| 16/16 [00:00<00:00, 90.21it/s, val_loss=0.55694298]\n",
      "Training Epoch [19/100]: 100%|██████████████████████████████████████████| 916/916 [00:25<00:00, 35.37it/s, train_loss=0.58667191, val_loss=0.55694298]\n",
      "Validation Epoch [19/100]: 100%|█████████████████████████████████████████████████████████████████| 16/16 [00:01<00:00, 12.47it/s, val_loss=0.55598668]\n",
      "Training Epoch [20/100]: 100%|██████████████████████████████████████████| 916/916 [00:17<00:00, 51.44it/s, train_loss=0.58553677, val_loss=0.55598668]\n",
      "Validation Epoch [20/100]: 100%|█████████████████████████████████████████████████████████████████| 16/16 [00:00<00:00, 31.94it/s, val_loss=0.55343495]\n",
      "Training Epoch [21/100]: 100%|██████████████████████████████████████████| 916/916 [00:26<00:00, 34.42it/s, train_loss=0.58493234, val_loss=0.55343495]\n",
      "Validation Epoch [21/100]: 100%|█████████████████████████████████████████████████████████████████| 16/16 [00:00<00:00, 39.07it/s, val_loss=0.55382949]\n",
      "Training Epoch [22/100]: 100%|██████████████████████████████████████████| 916/916 [00:26<00:00, 34.48it/s, train_loss=0.58463309, val_loss=0.55382949]\n",
      "Validation Epoch [22/100]: 100%|█████████████████████████████████████████████████████████████████| 16/16 [00:00<00:00, 39.39it/s, val_loss=0.55265737]\n",
      "Training Epoch [23/100]: 100%|██████████████████████████████████████████| 916/916 [00:15<00:00, 59.22it/s, train_loss=0.58426980, val_loss=0.55265737]\n",
      "Validation Epoch [23/100]: 100%|████████████████████████████████████████████████████████████████| 16/16 [00:00<00:00, 105.74it/s, val_loss=0.55251768]\n",
      "Training Epoch [24/100]: 100%|██████████████████████████████████████████| 916/916 [00:23<00:00, 39.77it/s, train_loss=0.58374943, val_loss=0.55251768]\n",
      "Validation Epoch [24/100]: 100%|█████████████████████████████████████████████████████████████████| 16/16 [00:00<00:00, 78.30it/s, val_loss=0.55221847]\n",
      "Training Epoch [25/100]: 100%|██████████████████████████████████████████| 916/916 [00:25<00:00, 36.38it/s, train_loss=0.58334388, val_loss=0.55221847]\n",
      "Validation Epoch [25/100]: 100%|█████████████████████████████████████████████████████████████████| 16/16 [00:00<00:00, 71.07it/s, val_loss=0.55167215]\n",
      "Training Epoch [26/100]: 100%|██████████████████████████████████████████| 916/916 [00:21<00:00, 43.37it/s, train_loss=0.58316595, val_loss=0.55167215]\n",
      "Validation Epoch [26/100]: 100%|█████████████████████████████████████████████████████████████████| 16/16 [00:00<00:00, 35.30it/s, val_loss=0.55112278]\n",
      "Training Epoch [27/100]: 100%|██████████████████████████████████████████| 916/916 [00:24<00:00, 37.07it/s, train_loss=0.58298663, val_loss=0.55112278]\n",
      "Validation Epoch [27/100]: 100%|█████████████████████████████████████████████████████████████████| 16/16 [00:00<00:00, 39.70it/s, val_loss=0.55132405]\n",
      "Training Epoch [28/100]: 100%|██████████████████████████████████████████| 916/916 [00:19<00:00, 47.54it/s, train_loss=0.58276614, val_loss=0.55132405]\n",
      "Validation Epoch [28/100]: 100%|█████████████████████████████████████████████████████████████████| 16/16 [00:00<00:00, 90.04it/s, val_loss=0.55066454]\n",
      "Training Epoch [29/100]: 100%|██████████████████████████████████████████| 916/916 [00:21<00:00, 42.44it/s, train_loss=0.58248865, val_loss=0.55066454]\n",
      "Validation Epoch [29/100]: 100%|█████████████████████████████████████████████████████████████████| 16/16 [00:00<00:00, 36.04it/s, val_loss=0.55068161]\n",
      "Training Epoch [30/100]: 100%|██████████████████████████████████████████| 916/916 [00:23<00:00, 39.29it/s, train_loss=0.58235778, val_loss=0.55068161]\n",
      "Validation Epoch [30/100]: 100%|█████████████████████████████████████████████████████████████████| 16/16 [00:00<00:00, 66.84it/s, val_loss=0.55007866]\n",
      "Training Epoch [31/100]: 100%|██████████████████████████████████████████| 916/916 [00:23<00:00, 39.46it/s, train_loss=0.58209874, val_loss=0.55007866]\n",
      "Validation Epoch [31/100]: 100%|█████████████████████████████████████████████████████████████████| 16/16 [00:00<00:00, 75.52it/s, val_loss=0.54998720]\n",
      "Training Epoch [32/100]: 100%|██████████████████████████████████████████| 916/916 [00:21<00:00, 41.92it/s, train_loss=0.58149618, val_loss=0.54998720]\n",
      "Validation Epoch [32/100]: 100%|█████████████████████████████████████████████████████████████████| 16/16 [00:00<00:00, 64.87it/s, val_loss=0.55008587]\n",
      "Training Epoch [33/100]: 100%|██████████████████████████████████████████| 916/916 [00:18<00:00, 48.60it/s, train_loss=0.58138721, val_loss=0.55008587]\n",
      "Validation Epoch [33/100]: 100%|█████████████████████████████████████████████████████████████████| 16/16 [00:00<00:00, 39.82it/s, val_loss=0.55039791]\n",
      "Training Epoch [34/100]: 100%|██████████████████████████████████████████| 916/916 [00:21<00:00, 42.27it/s, train_loss=0.58093888, val_loss=0.55039791]\n",
      "Validation Epoch [34/100]: 100%|█████████████████████████████████████████████████████████████████| 16/16 [00:00<00:00, 32.30it/s, val_loss=0.54893913]\n",
      "Training Epoch [35/100]: 100%|██████████████████████████████████████████| 916/916 [00:24<00:00, 37.94it/s, train_loss=0.58081750, val_loss=0.54893913]\n",
      "Validation Epoch [35/100]: 100%|█████████████████████████████████████████████████████████████████| 16/16 [00:00<00:00, 37.91it/s, val_loss=0.54893290]\n",
      "Training Epoch [36/100]: 100%|██████████████████████████████████████████| 916/916 [00:15<00:00, 57.46it/s, train_loss=0.58048210, val_loss=0.54893290]\n",
      "Validation Epoch [36/100]: 100%|█████████████████████████████████████████████████████████████████| 16/16 [00:00<00:00, 87.95it/s, val_loss=0.54855823]\n",
      "Training Epoch [37/100]: 100%|██████████████████████████████████████████| 916/916 [00:20<00:00, 43.84it/s, train_loss=0.58017671, val_loss=0.54855823]\n",
      "Validation Epoch [37/100]: 100%|█████████████████████████████████████████████████████████████████| 16/16 [00:00<00:00, 39.55it/s, val_loss=0.54811806]\n",
      "Training Epoch [38/100]: 100%|██████████████████████████████████████████| 916/916 [00:24<00:00, 36.87it/s, train_loss=0.58024769, val_loss=0.54811806]\n",
      "Validation Epoch [38/100]: 100%|█████████████████████████████████████████████████████████████████| 16/16 [00:00<00:00, 32.93it/s, val_loss=0.54811363]\n",
      "Training Epoch [39/100]: 100%|██████████████████████████████████████████| 916/916 [00:24<00:00, 37.17it/s, train_loss=0.58000078, val_loss=0.54811363]\n",
      "Validation Epoch [39/100]: 100%|█████████████████████████████████████████████████████████████████| 16/16 [00:00<00:00, 35.26it/s, val_loss=0.54760718]\n",
      "Training Epoch [40/100]: 100%|██████████████████████████████████████████| 916/916 [00:18<00:00, 50.00it/s, train_loss=0.57932315, val_loss=0.54760718]\n",
      "Validation Epoch [40/100]: 100%|█████████████████████████████████████████████████████████████████| 16/16 [00:00<00:00, 77.58it/s, val_loss=0.54690050]\n",
      "Training Epoch [41/100]: 100%|██████████████████████████████████████████| 916/916 [00:18<00:00, 48.31it/s, train_loss=0.57877993, val_loss=0.54690050]\n",
      "Validation Epoch [41/100]: 100%|█████████████████████████████████████████████████████████████████| 16/16 [00:00<00:00, 86.70it/s, val_loss=0.54685104]\n",
      "Training Epoch [42/100]: 100%|██████████████████████████████████████████| 916/916 [00:24<00:00, 36.78it/s, train_loss=0.57864075, val_loss=0.54685104]\n",
      "Validation Epoch [42/100]: 100%|█████████████████████████████████████████████████████████████████| 16/16 [00:00<00:00, 52.39it/s, val_loss=0.54685481]\n",
      "Training Epoch [43/100]: 100%|██████████████████████████████████████████| 916/916 [00:27<00:00, 33.73it/s, train_loss=0.57843010, val_loss=0.54685481]\n",
      "Validation Epoch [43/100]: 100%|█████████████████████████████████████████████████████████████████| 16/16 [00:00<00:00, 43.60it/s, val_loss=0.54673000]\n",
      "Training Epoch [44/100]: 100%|██████████████████████████████████████████| 916/916 [00:25<00:00, 35.98it/s, train_loss=0.57831857, val_loss=0.54673000]\n",
      "Validation Epoch [44/100]: 100%|█████████████████████████████████████████████████████████████████| 16/16 [00:00<00:00, 44.53it/s, val_loss=0.54580686]\n",
      "Training Epoch [45/100]: 100%|██████████████████████████████████████████| 916/916 [00:25<00:00, 35.47it/s, train_loss=0.57816729, val_loss=0.54580686]\n",
      "Validation Epoch [45/100]: 100%|█████████████████████████████████████████████████████████████████| 16/16 [00:00<00:00, 28.07it/s, val_loss=0.54601745]\n",
      "Training Epoch [46/100]: 100%|██████████████████████████████████████████| 916/916 [00:25<00:00, 36.54it/s, train_loss=0.57807293, val_loss=0.54601745]\n",
      "Validation Epoch [46/100]: 100%|█████████████████████████████████████████████████████████████████| 16/16 [00:00<00:00, 74.30it/s, val_loss=0.54561883]\n",
      "Training Epoch [47/100]: 100%|██████████████████████████████████████████| 916/916 [00:26<00:00, 34.73it/s, train_loss=0.57793288, val_loss=0.54561883]\n",
      "Validation Epoch [47/100]: 100%|█████████████████████████████████████████████████████████████████| 16/16 [00:00<00:00, 34.42it/s, val_loss=0.54511200]\n",
      "Training Epoch [48/100]: 100%|██████████████████████████████████████████| 916/916 [00:22<00:00, 40.54it/s, train_loss=0.57763455, val_loss=0.54511200]\n",
      "Validation Epoch [48/100]: 100%|█████████████████████████████████████████████████████████████████| 16/16 [00:00<00:00, 39.06it/s, val_loss=0.54593232]\n",
      "Training Epoch [49/100]: 100%|██████████████████████████████████████████| 916/916 [00:22<00:00, 39.84it/s, train_loss=0.57750783, val_loss=0.54593232]\n",
      "Validation Epoch [49/100]: 100%|█████████████████████████████████████████████████████████████████| 16/16 [00:00<00:00, 40.17it/s, val_loss=0.54585099]\n",
      "Training Epoch [50/100]: 100%|██████████████████████████████████████████| 916/916 [00:24<00:00, 37.80it/s, train_loss=0.57735788, val_loss=0.54585099]\n",
      "Validation Epoch [50/100]: 100%|█████████████████████████████████████████████████████████████████| 16/16 [00:00<00:00, 44.61it/s, val_loss=0.54506535]\n",
      "Training Epoch [51/100]: 100%|██████████████████████████████████████████| 916/916 [00:24<00:00, 37.41it/s, train_loss=0.57726054, val_loss=0.54506535]\n",
      "Validation Epoch [51/100]: 100%|█████████████████████████████████████████████████████████████████| 16/16 [00:00<00:00, 96.97it/s, val_loss=0.54433516]\n",
      "Training Epoch [52/100]: 100%|██████████████████████████████████████████| 916/916 [00:14<00:00, 64.88it/s, train_loss=0.57708848, val_loss=0.54433516]\n",
      "Validation Epoch [52/100]: 100%|█████████████████████████████████████████████████████████████████| 16/16 [00:00<00:00, 95.00it/s, val_loss=0.54498155]\n",
      "Training Epoch [53/100]: 100%|██████████████████████████████████████████| 916/916 [00:19<00:00, 46.03it/s, train_loss=0.57702217, val_loss=0.54498155]\n",
      "Validation Epoch [53/100]: 100%|█████████████████████████████████████████████████████████████████| 16/16 [00:00<00:00, 40.24it/s, val_loss=0.54436035]\n",
      "Training Epoch [54/100]: 100%|██████████████████████████████████████████| 916/916 [00:22<00:00, 40.16it/s, train_loss=0.57688139, val_loss=0.54436035]\n",
      "Validation Epoch [54/100]: 100%|█████████████████████████████████████████████████████████████████| 16/16 [00:00<00:00, 40.83it/s, val_loss=0.54483816]\n",
      "Training Epoch [55/100]: 100%|██████████████████████████████████████████| 916/916 [00:23<00:00, 39.35it/s, train_loss=0.57680735, val_loss=0.54483816]\n",
      "Validation Epoch [55/100]: 100%|█████████████████████████████████████████████████████████████████| 16/16 [00:00<00:00, 69.62it/s, val_loss=0.54446387]\n",
      "Training Epoch [56/100]: 100%|██████████████████████████████████████████| 916/916 [00:27<00:00, 33.25it/s, train_loss=0.57669780, val_loss=0.54446387]\n",
      "Validation Epoch [56/100]: 100%|█████████████████████████████████████████████████████████████████| 16/16 [00:00<00:00, 33.40it/s, val_loss=0.54347958]\n",
      "Training Epoch [57/100]: 100%|██████████████████████████████████████████| 916/916 [00:29<00:00, 30.98it/s, train_loss=0.57646357, val_loss=0.54347958]\n",
      "Validation Epoch [57/100]: 100%|█████████████████████████████████████████████████████████████████| 16/16 [00:00<00:00, 25.19it/s, val_loss=0.54464090]\n",
      "Training Epoch [58/100]: 100%|██████████████████████████████████████████| 916/916 [00:28<00:00, 31.73it/s, train_loss=0.57634469, val_loss=0.54464090]\n",
      "Validation Epoch [58/100]: 100%|█████████████████████████████████████████████████████████████████| 16/16 [00:00<00:00, 54.42it/s, val_loss=0.54426895]\n",
      "Training Epoch [59/100]: 100%|██████████████████████████████████████████| 916/916 [00:25<00:00, 35.72it/s, train_loss=0.57622967, val_loss=0.54426895]\n",
      "Validation Epoch [59/100]: 100%|█████████████████████████████████████████████████████████████████| 16/16 [00:00<00:00, 65.22it/s, val_loss=0.54379806]\n",
      "Training Epoch [60/100]: 100%|██████████████████████████████████████████| 916/916 [00:22<00:00, 40.29it/s, train_loss=0.57594223, val_loss=0.54379806]\n",
      "Validation Epoch [60/100]: 100%|█████████████████████████████████████████████████████████████████| 16/16 [00:00<00:00, 40.68it/s, val_loss=0.54331952]\n",
      "Training Epoch [61/100]: 100%|██████████████████████████████████████████| 916/916 [00:20<00:00, 44.88it/s, train_loss=0.57565929, val_loss=0.54331952]\n",
      "Validation Epoch [61/100]: 100%|█████████████████████████████████████████████████████████████████| 16/16 [00:00<00:00, 86.66it/s, val_loss=0.54330423]\n",
      "Training Epoch [62/100]:  11%|████▊                                     | 104/916 [00:02<00:23, 34.01it/s, train_loss=0.57491879, val_loss=0.54330423]"
     ]
    }
   ],
   "source": [
    "encoder_pretrained = Encoder(hparams).to(device)\n",
    "decoder = Decoder(hparams).to(device)\n",
    "autoencoder = Autoencoder(hparams, encoder_pretrained, decoder).to(device)\n",
    "\n",
    "def train_model(model, train_loader, val_loader, loss_func, tb_logger, epochs=10, name='Autoencoder'):\n",
    "    \n",
    "    optimizer = model.optimizer\n",
    "    scheduler = torch.optim.lr_scheduler.StepLR(optimizer, step_size=epochs * len(train_loader) / 5, gamma=0.7)\n",
    "    validation_loss = 0\n",
    "    model = model.to(device)\n",
    "    for epoch in range(epochs):\n",
    "        \n",
    "        # Train\n",
    "        training_loop = create_tqdm_bar(train_loader, desc=f'Training Epoch [{epoch}/{epochs}]')\n",
    "        training_loss = 0\n",
    "        for train_iteration, batch in training_loop:\n",
    "            \n",
    "            loss = model.training_step(batch, loss_func) # You need to implement this function.\n",
    "            training_loss += loss.item()\n",
    "            scheduler.step()\n",
    "\n",
    "            # Update the progress bar.\n",
    "            training_loop.set_postfix(train_loss = \"{:.8f}\".format(training_loss / (train_iteration + 1)), val_loss = \"{:.8f}\".format(validation_loss))\n",
    "\n",
    "            # Update the tensorboard logger.\n",
    "            tb_logger.add_scalar(f'{name}/train_loss', loss.item(), epoch * len(train_loader) + train_iteration)\n",
    "\n",
    "        # Validation\n",
    "        val_loop = create_tqdm_bar(val_loader, desc=f'Validation Epoch [{epoch}/{epochs}]')\n",
    "        validation_loss = 0\n",
    "        with torch.no_grad():\n",
    "            for val_iteration, batch in val_loop:\n",
    "                loss = model.validation_step(batch, loss_func) # You need to implement this function.\n",
    "                validation_loss += loss.item()\n",
    "\n",
    "                # Update the progress bar.\n",
    "                val_loop.set_postfix(val_loss = \"{:.8f}\".format(validation_loss / (val_iteration + 1)))\n",
    "\n",
    "                # Update the tensorboard logger.\n",
    "                tb_logger.add_scalar(f'{name}/val_loss', validation_loss / (val_iteration + 1), epoch * len(val_loader) + val_iteration)\n",
    "        # This value is for the progress bar of the training loop.\n",
    "        validation_loss /= len(val_loader)\n",
    "\n",
    "# Create a tensorboard logger.\n",
    "# NOTE: In order to see the logs, run the following command in the terminal: tensorboard --logdir=./\n",
    "# Also, in order to reset the logs, delete the logs folder MANUALLY.\n",
    "\n",
    "path = os.path.join('logs', 'ae_logs')\n",
    "num_of_runs = len(os.listdir(path)) if os.path.exists(path) else 0\n",
    "path = os.path.join(path, f'run_{num_of_runs + 1}')\n",
    "tb_logger = SummaryWriter(path)\n",
    "\n",
    "# Train the classifier.\n",
    "unlabled_train_loader = torch.utils.data.DataLoader(unlabeled_train, batch_size=hparams['batch_size'], shuffle=True)\n",
    "unlabled_val_loader = torch.utils.data.DataLoader(unlabeled_val, batch_size=hparams['batch_size'], shuffle=False)\n",
    "\n",
    "epochs = hparams.get('epochs', 5)\n",
    "loss_func = nn.MSELoss() # The loss function we use for regression (Could also be nn.L1Loss()).\n",
    "train_model(autoencoder, unlabled_train_loader, unlabled_val_loader, loss_func, tb_logger, epochs=epochs, name='Autoencoder')\n",
    "\n",
    "print(\"Finished training!\")"
   ]
  },
  {
   "attachments": {},
   "cell_type": "markdown",
   "metadata": {
    "id": "vdgiYWy4MNkq"
   },
   "source": [
    "Once trained, let's have a look at the reconstructed validation images (If you have not already looked at them in TensorBoard)."
   ]
  },
  {
   "cell_type": "code",
   "execution_count": null,
   "metadata": {
    "id": "a991mKcyMNkq"
   },
   "outputs": [
    {
     "data": {
      "image/png": "[encoded data removed]",
      "text/plain": [
       "<Figure size 1600x1600 with 64 Axes>"
      ]
     },
     "metadata": {},
     "output_type": "display_data"
    }
   ],
   "source": [
    "reconstructions = autoencoder.getReconstructions(unlabled_val_loader)\n",
    "for i in range(64):\n",
    "    plt.subplot(8,8,i+1)\n",
    "    plt.axis('off')\n",
    "    plt.imshow(reconstructions[i], cmap='gray', interpolation='none')\n",
    "    \n",
    "plt.tight_layout()"
   ]
  },
  {
   "attachments": {},
   "cell_type": "markdown",
   "metadata": {
    "id": "R2hrP5b1MNkr"
   },
   "source": [
    "# 4. Transfer Learning\n",
    "\n",
    "## 4.1 The pretrained Classifier\n",
    "\n",
    "Now we initialize another classifier but this time with the pretrained encoder."
   ]
  },
  {
   "cell_type": "code",
   "execution_count": 236,
   "metadata": {
    "id": "OELYQAUmMNkr"
   },
   "outputs": [],
   "source": [
    "from exercise_code.models import Classifier\n",
    "from copy import deepcopy\n",
    "\n",
    "hparams = {}\n",
    "########################################################################\n",
    "# TODO: Define your hyperparameters here!                             #\n",
    "##########################################################16\n",
    "hparams = {\n",
    "    \"n_hidden\": 256,  # 更大的隐藏层神经元数量\n",
    "    \"learning_rate\": 6e-4,\n",
    "    \"batch_size\": 64,  # 使用大批量大小\n",
    "    \"epochs\": 100,  # 训练周期\n",
    "}\n",
    "########################################################################\n",
    "#                           END OF YOUR CODE                           #\n",
    "########################################################################\n",
    "\n",
    "encoder_pretrained_copy = deepcopy(encoder_pretrained)\n",
    "classifier_pretrained = Classifier(hparams, encoder_pretrained_copy).to(device)"
   ]
  },
  {
   "attachments": {},
   "cell_type": "markdown",
   "metadata": {
    "id": "R8FUtih6MNks"
   },
   "source": [
    "Let's define another trainer that will utilize the pretrained classifier, allowing us to compare its performance with the classifier trained only on the labeled data. To achieve a reasonable result, you may need to optimize the parameters you defined earlier."
   ]
  },
  {
   "cell_type": "code",
   "execution_count": 247,
   "metadata": {
    "id": "Mx_euorWMNks"
   },
   "outputs": [
    {
     "name": "stderr",
     "output_type": "stream",
     "text": [
      "Training Epoch [1/50]:   0%|                                                                                                   | 0/50 [00:00<?, ?it/s]"
     ]
    },
    {
     "name": "stderr",
     "output_type": "stream",
     "text": [
      "Training Epoch [1/50]: 100%|█████████████████████████████████████████| 50/50 [00:05<00:00,  9.31it/s, curr_train_loss=0.08009990, val_loss=0.00000000]\n",
      "Validation Epoch [1/50]: 100%|███████████████████████████████████████████████████████████████████| 50/50 [00:05<00:00,  9.40it/s, val_loss=2.42201358]\n",
      "Training Epoch [2/50]: 100%|█████████████████████████████████████████| 50/50 [00:05<00:00,  9.28it/s, curr_train_loss=0.04630875, val_loss=2.42201358]\n",
      "Validation Epoch [2/50]: 100%|███████████████████████████████████████████████████████████████████| 50/50 [00:05<00:00,  9.43it/s, val_loss=2.64579841]\n",
      "Training Epoch [3/50]: 100%|█████████████████████████████████████████| 50/50 [00:05<00:00,  9.24it/s, curr_train_loss=0.03817688, val_loss=2.64579841]\n",
      "Validation Epoch [3/50]: 100%|███████████████████████████████████████████████████████████████████| 50/50 [00:05<00:00,  9.45it/s, val_loss=2.47832298]\n",
      "Training Epoch [4/50]: 100%|█████████████████████████████████████████| 50/50 [00:05<00:00,  9.15it/s, curr_train_loss=0.02306652, val_loss=2.47832298]\n",
      "Validation Epoch [4/50]: 100%|███████████████████████████████████████████████████████████████████| 50/50 [00:05<00:00,  9.30it/s, val_loss=2.39983479]\n",
      "Training Epoch [5/50]: 100%|█████████████████████████████████████████| 50/50 [00:05<00:00,  9.20it/s, curr_train_loss=0.04132318, val_loss=2.39983479]\n",
      "Validation Epoch [5/50]: 100%|███████████████████████████████████████████████████████████████████| 50/50 [00:05<00:00,  9.37it/s, val_loss=1.97451769]\n",
      "Training Epoch [6/50]: 100%|█████████████████████████████████████████| 50/50 [00:05<00:00,  9.12it/s, curr_train_loss=0.06684159, val_loss=1.97451769]\n",
      "Validation Epoch [6/50]: 100%|███████████████████████████████████████████████████████████████████| 50/50 [00:05<00:00,  9.35it/s, val_loss=2.45739981]\n",
      "Training Epoch [7/50]: 100%|█████████████████████████████████████████| 50/50 [00:05<00:00,  9.33it/s, curr_train_loss=0.00984846, val_loss=2.45739981]\n",
      "Validation Epoch [7/50]: 100%|███████████████████████████████████████████████████████████████████| 50/50 [00:05<00:00,  9.41it/s, val_loss=2.01755052]\n",
      "Training Epoch [8/50]: 100%|█████████████████████████████████████████| 50/50 [00:05<00:00,  9.17it/s, curr_train_loss=0.02236403, val_loss=2.01755052]\n",
      "Validation Epoch [8/50]: 100%|███████████████████████████████████████████████████████████████████| 50/50 [00:05<00:00,  9.45it/s, val_loss=1.88505114]\n",
      "Training Epoch [9/50]: 100%|█████████████████████████████████████████| 50/50 [00:05<00:00,  9.23it/s, curr_train_loss=0.00386707, val_loss=1.88505114]\n",
      "Validation Epoch [9/50]: 100%|███████████████████████████████████████████████████████████████████| 50/50 [00:05<00:00,  9.30it/s, val_loss=1.76571571]\n",
      "Training Epoch [10/50]: 100%|████████████████████████████████████████| 50/50 [00:05<00:00,  9.06it/s, curr_train_loss=0.02041173, val_loss=1.76571571]\n",
      "Validation Epoch [10/50]: 100%|██████████████████████████████████████████████████████████████████| 50/50 [00:05<00:00,  9.29it/s, val_loss=1.77967382]\n",
      "Training Epoch [11/50]: 100%|████████████████████████████████████████| 50/50 [00:05<00:00,  9.10it/s, curr_train_loss=0.00504809, val_loss=1.77967382]\n",
      "Validation Epoch [11/50]: 100%|██████████████████████████████████████████████████████████████████| 50/50 [00:05<00:00,  9.43it/s, val_loss=2.50652244]\n",
      "Training Epoch [12/50]: 100%|████████████████████████████████████████| 50/50 [00:05<00:00,  9.18it/s, curr_train_loss=0.00144566, val_loss=2.50652244]\n",
      "Validation Epoch [12/50]: 100%|██████████████████████████████████████████████████████████████████| 50/50 [00:05<00:00,  9.30it/s, val_loss=2.25416104]\n",
      "Training Epoch [13/50]: 100%|████████████████████████████████████████| 50/50 [00:05<00:00,  9.31it/s, curr_train_loss=0.00508856, val_loss=2.25416104]\n",
      "Validation Epoch [13/50]: 100%|██████████████████████████████████████████████████████████████████| 50/50 [00:05<00:00,  9.45it/s, val_loss=2.08975333]\n",
      "Training Epoch [14/50]: 100%|████████████████████████████████████████| 50/50 [00:05<00:00,  9.29it/s, curr_train_loss=0.00961975, val_loss=2.08975333]\n",
      "Validation Epoch [14/50]: 100%|██████████████████████████████████████████████████████████████████| 50/50 [00:05<00:00,  9.39it/s, val_loss=2.41149832]\n",
      "Training Epoch [15/50]: 100%|████████████████████████████████████████| 50/50 [00:05<00:00,  9.19it/s, curr_train_loss=0.07287686, val_loss=2.41149832]\n",
      "Validation Epoch [15/50]: 100%|██████████████████████████████████████████████████████████████████| 50/50 [00:05<00:00,  9.28it/s, val_loss=2.74788419]\n",
      "Training Epoch [16/50]: 100%|████████████████████████████████████████| 50/50 [00:05<00:00,  8.96it/s, curr_train_loss=0.04296763, val_loss=2.74788419]\n",
      "Validation Epoch [16/50]: 100%|██████████████████████████████████████████████████████████████████| 50/50 [00:05<00:00,  9.21it/s, val_loss=2.36765913]\n",
      "Training Epoch [17/50]: 100%|████████████████████████████████████████| 50/50 [00:05<00:00,  8.89it/s, curr_train_loss=0.01172464, val_loss=2.36765913]\n",
      "Validation Epoch [17/50]: 100%|██████████████████████████████████████████████████████████████████| 50/50 [00:05<00:00,  9.19it/s, val_loss=2.46344208]\n",
      "Training Epoch [18/50]: 100%|████████████████████████████████████████| 50/50 [00:05<00:00,  9.07it/s, curr_train_loss=0.00335798, val_loss=2.46344208]\n",
      "Validation Epoch [18/50]: 100%|██████████████████████████████████████████████████████████████████| 50/50 [00:05<00:00,  9.48it/s, val_loss=2.31743966]\n",
      "Training Epoch [19/50]: 100%|████████████████████████████████████████| 50/50 [00:05<00:00,  9.24it/s, curr_train_loss=0.00026846, val_loss=2.31743966]\n",
      "Validation Epoch [19/50]: 100%|██████████████████████████████████████████████████████████████████| 50/50 [00:05<00:00,  9.33it/s, val_loss=2.44603939]\n",
      "Training Epoch [20/50]: 100%|████████████████████████████████████████| 50/50 [00:05<00:00,  9.16it/s, curr_train_loss=0.00019063, val_loss=2.44603939]\n",
      "Validation Epoch [20/50]: 100%|██████████████████████████████████████████████████████████████████| 50/50 [00:05<00:00,  9.42it/s, val_loss=2.25802218]\n",
      "Training Epoch [21/50]: 100%|████████████████████████████████████████| 50/50 [00:05<00:00,  9.27it/s, curr_train_loss=0.00010730, val_loss=2.25802218]\n",
      "Validation Epoch [21/50]: 100%|██████████████████████████████████████████████████████████████████| 50/50 [00:05<00:00,  9.50it/s, val_loss=2.35920913]\n",
      "Training Epoch [22/50]: 100%|████████████████████████████████████████| 50/50 [00:05<00:00,  9.37it/s, curr_train_loss=0.00060373, val_loss=2.35920913]\n",
      "Validation Epoch [22/50]: 100%|██████████████████████████████████████████████████████████████████| 50/50 [00:05<00:00,  9.47it/s, val_loss=2.09573395]\n",
      "Training Epoch [23/50]: 100%|████████████████████████████████████████| 50/50 [00:05<00:00,  9.29it/s, curr_train_loss=0.00012953, val_loss=2.09573395]\n",
      "Validation Epoch [23/50]: 100%|██████████████████████████████████████████████████████████████████| 50/50 [00:05<00:00,  9.50it/s, val_loss=2.31491741]\n",
      "Training Epoch [24/50]: 100%|████████████████████████████████████████| 50/50 [00:05<00:00,  9.19it/s, curr_train_loss=0.00010988, val_loss=2.31491741]\n",
      "Validation Epoch [24/50]: 100%|██████████████████████████████████████████████████████████████████| 50/50 [00:05<00:00,  9.25it/s, val_loss=2.25201312]\n",
      "Training Epoch [25/50]: 100%|████████████████████████████████████████| 50/50 [00:05<00:00,  8.94it/s, curr_train_loss=0.00022154, val_loss=2.25201312]\n",
      "Validation Epoch [25/50]: 100%|██████████████████████████████████████████████████████████████████| 50/50 [00:05<00:00,  9.19it/s, val_loss=2.17180488]\n",
      "Training Epoch [26/50]: 100%|████████████████████████████████████████| 50/50 [00:05<00:00,  9.03it/s, curr_train_loss=0.00067882, val_loss=2.17180488]\n",
      "Validation Epoch [26/50]: 100%|██████████████████████████████████████████████████████████████████| 50/50 [00:05<00:00,  9.18it/s, val_loss=2.34509623]\n",
      "Training Epoch [27/50]: 100%|████████████████████████████████████████| 50/50 [00:05<00:00,  9.02it/s, curr_train_loss=0.00042272, val_loss=2.34509623]\n",
      "Validation Epoch [27/50]: 100%|██████████████████████████████████████████████████████████████████| 50/50 [00:05<00:00,  9.26it/s, val_loss=2.15546458]\n",
      "Training Epoch [28/50]: 100%|████████████████████████████████████████| 50/50 [00:05<00:00,  9.10it/s, curr_train_loss=0.00012089, val_loss=2.15546458]\n",
      "Validation Epoch [28/50]: 100%|██████████████████████████████████████████████████████████████████| 50/50 [00:05<00:00,  9.67it/s, val_loss=2.19834086]\n",
      "Training Epoch [29/50]: 100%|████████████████████████████████████████| 50/50 [00:05<00:00,  9.54it/s, curr_train_loss=0.00012581, val_loss=2.19834086]\n",
      "Validation Epoch [29/50]: 100%|██████████████████████████████████████████████████████████████████| 50/50 [00:05<00:00,  9.70it/s, val_loss=2.40232587]\n",
      "Training Epoch [30/50]: 100%|████████████████████████████████████████| 50/50 [00:05<00:00,  9.55it/s, curr_train_loss=0.00008430, val_loss=2.40232587]\n",
      "Validation Epoch [30/50]: 100%|██████████████████████████████████████████████████████████████████| 50/50 [00:05<00:00,  9.71it/s, val_loss=2.20914334]\n",
      "Training Epoch [31/50]: 100%|████████████████████████████████████████| 50/50 [00:05<00:00,  9.54it/s, curr_train_loss=0.00010466, val_loss=2.20914334]\n",
      "Validation Epoch [31/50]: 100%|██████████████████████████████████████████████████████████████████| 50/50 [00:05<00:00,  9.70it/s, val_loss=2.45945769]\n",
      "Training Epoch [32/50]: 100%|████████████████████████████████████████| 50/50 [00:05<00:00,  9.56it/s, curr_train_loss=0.00018613, val_loss=2.45945769]\n",
      "Validation Epoch [32/50]: 100%|██████████████████████████████████████████████████████████████████| 50/50 [00:05<00:00,  9.66it/s, val_loss=2.29946650]\n",
      "Training Epoch [33/50]:  80%|████████████████████████████████        | 40/50 [00:04<00:01,  9.41it/s, curr_train_loss=0.00009855, val_loss=2.29946650]\n"
     ]
    },
    {
     "ename": "KeyboardInterrupt",
     "evalue": "",
     "output_type": "error",
     "traceback": [
      "\u001b[0;31m---------------------------------------------------------------------------\u001b[0m",
      "\u001b[0;31mKeyboardInterrupt\u001b[0m                         Traceback (most recent call last)",
      "Cell \u001b[0;32mIn[247], line 24\u001b[0m\n\u001b[1;32m     22\u001b[0m epochs \u001b[38;5;241m=\u001b[39m hparams\u001b[38;5;241m.\u001b[39mget(\u001b[38;5;124m'\u001b[39m\u001b[38;5;124mepochs\u001b[39m\u001b[38;5;124m'\u001b[39m, \u001b[38;5;241m20\u001b[39m)\n\u001b[1;32m     23\u001b[0m loss_func \u001b[38;5;241m=\u001b[39m nn\u001b[38;5;241m.\u001b[39mCrossEntropyLoss() \u001b[38;5;66;03m# The loss function we use for classification.\u001b[39;00m\n\u001b[0;32m---> 24\u001b[0m \u001b[43mtrain_classifier\u001b[49m\u001b[43m(\u001b[49m\u001b[43mclassifier_pretrained\u001b[49m\u001b[43m,\u001b[49m\u001b[43m \u001b[49m\u001b[43mlabled_train_loader\u001b[49m\u001b[43m,\u001b[49m\u001b[43m \u001b[49m\u001b[43mlabled_val_loader\u001b[49m\u001b[43m,\u001b[49m\u001b[43m \u001b[49m\u001b[43mloss_func\u001b[49m\u001b[43m,\u001b[49m\u001b[43m \u001b[49m\u001b[43mtb_logger\u001b[49m\u001b[43m,\u001b[49m\u001b[43m \u001b[49m\u001b[43mepochs\u001b[49m\u001b[38;5;241;43m=\u001b[39;49m\u001b[43mepochs\u001b[49m\u001b[43m,\u001b[49m\u001b[43m \u001b[49m\u001b[43mname\u001b[49m\u001b[38;5;241;43m=\u001b[39;49m\u001b[38;5;124;43m'\u001b[39;49m\u001b[38;5;124;43mPretrained\u001b[39;49m\u001b[38;5;124;43m'\u001b[39;49m\u001b[43m)\u001b[49m\n\u001b[1;32m     26\u001b[0m \u001b[38;5;28mprint\u001b[39m(\u001b[38;5;124m\"\u001b[39m\u001b[38;5;124mFinished training!\u001b[39m\u001b[38;5;124m\"\u001b[39m) \n",
      "Cell \u001b[0;32mIn[135], line 47\u001b[0m, in \u001b[0;36mtrain_classifier\u001b[0;34m(classifier, train_loader, val_loader, loss_func, tb_logger, epochs, name)\u001b[0m\n\u001b[1;32m     45\u001b[0m     \u001b[38;5;66;03m# Update the tensorboard logger.\u001b[39;00m\n\u001b[1;32m     46\u001b[0m     tb_logger\u001b[38;5;241m.\u001b[39madd_scalar(\u001b[38;5;124mf\u001b[39m\u001b[38;5;124m'\u001b[39m\u001b[38;5;124mclassifier_\u001b[39m\u001b[38;5;132;01m{\u001b[39;00mname\u001b[38;5;132;01m}\u001b[39;00m\u001b[38;5;124m/train_loss\u001b[39m\u001b[38;5;124m'\u001b[39m, loss\u001b[38;5;241m.\u001b[39mitem(), epoch \u001b[38;5;241m*\u001b[39m \u001b[38;5;28mlen\u001b[39m(train_loader) \u001b[38;5;241m+\u001b[39m train_iteration)\n\u001b[0;32m---> 47\u001b[0m     sleep(\u001b[38;5;241m0.1\u001b[39m) \u001b[38;5;66;03m# Remove this line if you want to see the progress bar faster.\u001b[39;00m\n\u001b[1;32m     49\u001b[0m \u001b[38;5;66;03m# Validation stage, where we don't want to update the parameters. Pay attention to the classifier.eval() line\u001b[39;00m\n\u001b[1;32m     50\u001b[0m \u001b[38;5;66;03m# and \"with torch.no_grad()\" wrapper.\u001b[39;00m\n\u001b[1;32m     51\u001b[0m classifier\u001b[38;5;241m.\u001b[39meval()\n",
      "\u001b[0;31mKeyboardInterrupt\u001b[0m: "
     ]
    }
   ],
   "source": [
    "\n",
    "# Create a tensorboard logger.\n",
    "# NOTE: In order to see the logs, run the following command in the terminal: tensorboard --logdir=./\n",
    "# Also, in order to reset the logs, delete the logs folder MANUALLY.\n",
    "# Pay attention that if you run this cell mutltiple times, the pretrained_encoder\n",
    "# is not reset, and will keep training from where it stopped. Thus, it could overfit.\n",
    "\n",
    "path = os.path.join('logs', 'pretrained_cls_logs')\n",
    "num_of_runs = len(os.listdir(path)) if os.path.exists(path) else 0\n",
    "path = os.path.join(path, f'run_{num_of_runs + 1}')\n",
    "tb_logger = SummaryWriter(path)\n",
    "\n",
    "batch_size = hparams.get('batch_size', 16)\n",
    "labled_train_loader = torch.utils.data.DataLoader(train_100_dataset, batch_size=batch_size, shuffle=True)\n",
    "labled_val_loader = torch.utils.data.DataLoader(val_100_dataset, batch_size=batch_size, shuffle=False)\n",
    "\n",
    "epochs = hparams.get('epochs', 20)\n",
    "loss_func = nn.CrossEntropyLoss() # The loss function we use for classification.\n",
    "train_classifier(classifier_pretrained, labled_train_loader, labled_val_loader, loss_func, tb_logger, epochs=epochs, name='Pretrained')\n",
    "\n",
    "print(\"Finished training!\") "
   ]
  },
  {
   "attachments": {},
   "cell_type": "markdown",
   "metadata": {
    "id": "H-pm1MY_MNks"
   },
   "source": [
    "Let's have a look at the validation accuracy of the two different classifiers and compare them. And don't forget that you can also monitor your training in TensorBoard.\n",
    "\n",
    "We will only look at the test accuracy and compare our two classifiers with respect to that in the very end."
   ]
  },
  {
   "cell_type": "code",
   "execution_count": 245,
   "metadata": {
    "id": "-e5Bd9KLMNkt"
   },
   "outputs": [
    {
     "name": "stdout",
     "output_type": "stream",
     "text": [
      "Validation accuracy when training from scratch: \u001b[92m67.0\u001b[0m%\n",
      "Validation accuracy with pretraining: \u001b[92m68.0\u001b[0m%\n"
     ]
    }
   ],
   "source": [
    "val_acc_scracth = classifier.getAcc(labled_val_loader)[1]*100\n",
    "color = 'green' if val_acc_scracth > 55 else 'red'\n",
    "print(f\"Validation accuracy when training from scratch: {bcolors.colorize(color, val_acc_scracth)}%\")\n",
    "\n",
    "val_acc_pretrained = classifier_pretrained.getAcc(labled_val_loader)[1]*100\n",
    "color = 'green' if val_acc_pretrained > 55 else 'red'\n",
    "print(f\"Validation accuracy with pretraining: {bcolors.colorize(color, val_acc_pretrained)}%\")\n",
    "\n",
    "\n"
   ]
  },
  {
   "attachments": {},
   "cell_type": "markdown",
   "metadata": {
    "id": "zAp2OTyf4_5b"
   },
   "source": [
    "Now that everything is working, feel free to play around with different architectures. As you've seen, it's quite easy to define your model or do adpations there.\n",
    "\n",
    "To pass this submission, you will need to achieve an accuracy of **55%**."
   ]
  },
  {
   "attachments": {},
   "cell_type": "markdown",
   "metadata": {
    "id": "OmEYmRT-5S-e"
   },
   "source": [
    "# Save your model & Report Test Accuracy\n",
    "\n",
    "When you are finally done with your **hyperparameter tuning**, achieved **at least 55% validation accuracy** and are happy with your final model, you can save it here.\n",
    "\n",
    "Before that, please check again whether the number of parameters is below 5 Mio and the file size is below 20 MB.\n",
    "\n",
    "Once your final model is saved, we'll finally report the test accuracy."
   ]
  },
  {
   "cell_type": "code",
   "execution_count": 214,
   "metadata": {
    "id": "S69ETKxD5TcE"
   },
   "outputs": [
    {
     "name": "stdout",
     "output_type": "stream",
     "text": [
      "Test accuracy when training from scratch: \u001b[92m72.0\u001b[0m%\n",
      "Test accuracy with pretraining: \u001b[92m75.0\u001b[0m%\n",
      "Validation Accuracy: \u001b[92m76.0\u001b[0m%\n",
      "# Paramters: Your model has \u001b[92m0.21\u001b[0m mio. params.\n",
      "Size: Great! Your model size is \u001b[92m1.7\u001b[0m MB and is less than 20 MB.\n",
      "Your model has been saved and is ready to be submitted.\n"
     ]
    }
   ],
   "source": [
    "from exercise_code.Util import test_and_save\n",
    "test_dl = torch.utils.data.DataLoader(test_100_dataset, batch_size=4, shuffle=False)\n",
    "\n",
    "test_acc = classifier.getAcc(test_dl)[1]*100\n",
    "color = 'green' if test_acc > 55 else 'red'\n",
    "print(f\"Test accuracy when training from scratch: {bcolors.colorize(color, test_acc)}%\")\n",
    "\n",
    "test_acc = classifier_pretrained.getAcc(test_dl)[1]*100\n",
    "color = 'green' if test_acc > 55 else 'red'\n",
    "print(f\"Test accuracy with pretraining: {bcolors.colorize(color, test_acc)}%\")\n",
    "\n",
    "test_and_save(classifier_pretrained, labled_val_loader, test_dl)"
   ]
  },
  {
   "cell_type": "code",
   "execution_count": 215,
   "metadata": {
    "id": "enZCnGL6MNkt"
   },
   "outputs": [
    {
     "name": "stdout",
     "output_type": "stream",
     "text": [
      "relevant folders: ['exercise_code', 'models']\n",
      "notebooks files: ['Optional-BatchNormalization_Dropout.ipynb', '1_Autoencoder.ipynb']\n",
      "Adding folder exercise_code\n",
      "Adding folder models\n",
      "Adding notebook Optional-BatchNormalization_Dropout.ipynb\n",
      "Adding notebook 1_Autoencoder.ipynb\n",
      "Zipping successful! Zip is stored under: /home/lukas/Desktop/I2DL-homework/output/exercise_08.zip\n"
     ]
    }
   ],
   "source": [
    "# Now zip the folder for upload\n",
    "from exercise_code.submit import submit_exercise\n",
    "\n",
    "submit_exercise('../output/exercise_08')"
   ]
  },
  {
   "attachments": {},
   "cell_type": "markdown",
   "metadata": {
    "id": "7fuo3Tf9MNku",
    "pycharm": {
     "name": "#%% md\n"
    }
   },
   "source": [
    "Congratulations on completing your first autoencoder and successfully transferring the weights to a classifier! It's remarkable how much easier this process becomes with the power of PyTorch, compared to working with plain NumPy, right?\n",
    "\n",
    "To complete the exercise, please submit your final model to [our submission portal](https://i2dl.vc.in.tum.de/) - you should be already familiar with the submission procedure. Next, it is time to get started with some more complex neural networks and tasks in the upcoming exercises. See you next week!\n",
    "\n",
    "# Submission Goals\n",
    "\n",
    "- Goal: Successfully implement a fully connected autoencoder for MNIST with Pytorch and transfer the encoder weights to a classifier.\n",
    "\n",
    "- Passing Criteria: There are no unit tests that check specific components of your code. The only thing that's required to pass the submission, is your model to reach at least **55% accuracy** on __our__ test dataset. The submission system will show you a number between 0 and 100 which corresponds to your accuracy.\n",
    "\n",
    "\n",
    "- You can make **$\\infty$** submissions until the deadline. Your __best submission__ will be considered for the bonus."
   ]
  }
 ],
 "metadata": {
  "accelerator": "GPU",
  "colab": {
   "provenance": []
  },
  "kernelspec": {
   "display_name": "Python 3",
   "language": "python",
   "name": "python3"
  },
  "language_info": {
   "codemirror_mode": {
    "name": "ipython",
    "version": 3
   },
   "file_extension": ".py",
   "mimetype": "text/x-python",
   "name": "python",
   "nbconvert_exporter": "python",
   "pygments_lexer": "ipython3",
   "version": "3.11.9"
  },
  "vscode": {
   "interpreter": {
    "hash": "54970da6898dad277dbf355945c2dee7f942d2a31ec1fc1455b6d4f552d07b83"
   }
  }
 },
 "nbformat": 4,
 "nbformat_minor": 1
}
